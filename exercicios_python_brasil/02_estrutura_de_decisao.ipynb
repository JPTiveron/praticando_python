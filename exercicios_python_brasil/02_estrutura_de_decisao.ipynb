{
 "cells": [
  {
   "cell_type": "markdown",
   "metadata": {},
   "source": [
    "# 02 - Estrutura de Decisão"
   ]
  },
  {
   "cell_type": "markdown",
   "metadata": {},
   "source": [
    "**Exercício 01**\n",
    "\n",
    "Faça um Programa que peça dois números e imprima o maior deles."
   ]
  },
  {
   "cell_type": "code",
   "execution_count": 2,
   "metadata": {},
   "outputs": [
    {
     "name": "stdout",
     "output_type": "stream",
     "text": [
      "Maior: 5.0\n"
     ]
    }
   ],
   "source": [
    "numero_1 = float(input(\"Informe o primeiro número: \"))\n",
    "numero_2 = float(input(\"Informe o segundo número: \"))\n",
    "\n",
    "if numero_1 > numero_2:\n",
    "    print(f\"Maior: {numero_1}\")\n",
    "elif numero_2 > numero_1:\n",
    "    print(f\"Maior: {numero_2}\")\n",
    "else:\n",
    "    print(\"Números são iguais\")"
   ]
  },
  {
   "cell_type": "markdown",
   "metadata": {},
   "source": [
    "**Exercício 02**\n",
    "\n",
    "Faça um Programa que peça um valor e mostre na tela se o valor é positivo ou negativo."
   ]
  },
  {
   "cell_type": "code",
   "execution_count": 3,
   "metadata": {},
   "outputs": [
    {
     "name": "stdout",
     "output_type": "stream",
     "text": [
      "Positivo\n"
     ]
    }
   ],
   "source": [
    "numero = float(input(\"Informe um valor numérico: \"))\n",
    "if numero > 0:\n",
    "    print(\"Positivo\")\n",
    "elif numero < 0:\n",
    "    print(\"Negativo\")\n",
    "else:\n",
    "    print(\"Neutro\")"
   ]
  },
  {
   "cell_type": "markdown",
   "metadata": {},
   "source": [
    "**Exercício 03**\n",
    "\n",
    "Faça um Programa que verifique se uma letra digitada é \"F\" ou \"M\". Conforme a letra escrever: F - Feminino, M - Masculino, Sexo Inválido."
   ]
  },
  {
   "cell_type": "code",
   "execution_count": 1,
   "metadata": {},
   "outputs": [
    {
     "name": "stdout",
     "output_type": "stream",
     "text": [
      "Masculino\n"
     ]
    }
   ],
   "source": [
    "sexo = input('Digite o sexo. (M - Masculino, F - Deminino, I - Indefinido): ').upper()\n",
    "\n",
    "if sexo == 'M':\n",
    "    print('Masculino')\n",
    "elif sexo == 'F':\n",
    "    print('Feminino')\n",
    "elif sexo == 'I':\n",
    "    print('Indefinido')\n",
    "else:\n",
    "    print('Sexo inválido')"
   ]
  },
  {
   "cell_type": "markdown",
   "metadata": {},
   "source": [
    "**Exercício 04**\n",
    "\n",
    "Faça um Programa que verifique se uma letra digitada é vogal ou consoante."
   ]
  },
  {
   "cell_type": "code",
   "execution_count": 5,
   "metadata": {},
   "outputs": [
    {
     "name": "stdout",
     "output_type": "stream",
     "text": [
      "E é uma vogal.\n"
     ]
    }
   ],
   "source": [
    "letra = input(\"Digite uma letra: \").upper()\n",
    "if letra in ['A', 'E', 'I', 'O', 'U']:\n",
    "    print(f\"{letra} é uma vogal.\")\n",
    "else:\n",
    "    print(f\"{letra} é uma consoante.\")"
   ]
  },
  {
   "cell_type": "markdown",
   "metadata": {},
   "source": [
    "**Exercício 05**\n",
    "\n",
    "Faça um programa para a leitura de duas notas parciais de um aluno. O programa deve calcular a média alcançada por aluno e apresentar:\n",
    "- A mensagem \"Aprovado\", se a média alcançada for maior ou igual a sete;\n",
    "- A mensagem \"Reprovado\", se a média for menor do que sete;\n",
    "- A mensagem \"Aprovado com Distinção\", se a média for igual a dez."
   ]
  },
  {
   "cell_type": "code",
   "execution_count": 13,
   "metadata": {},
   "outputs": [
    {
     "name": "stdout",
     "output_type": "stream",
     "text": [
      "Sua média foi:  10.0\n",
      "Aprovado com distinção!\n"
     ]
    }
   ],
   "source": [
    "nota_1 = float(input(\"Informe a primeira nota: \"))\n",
    "nota_2 = float(input(\"Informe a segunda nota: \"))\n",
    "media = (nota_1 + nota_2) / 2\n",
    "print(f\"Sua média foi: {media:5.1f}\")\n",
    "\n",
    "if media == 10:\n",
    "    print(\"Aprovado com distinção!\")\n",
    "elif media >= 7:\n",
    "    print(\"Aprovado!\")\n",
    "else:\n",
    "    print(\"Reprovado\")"
   ]
  },
  {
   "cell_type": "markdown",
   "metadata": {},
   "source": [
    "**Exercício 06**\n",
    "\n",
    "Faça um Programa que leia três números e mostre o maior deles."
   ]
  },
  {
   "cell_type": "code",
   "execution_count": 12,
   "metadata": {},
   "outputs": [
    {
     "name": "stdout",
     "output_type": "stream",
     "text": [
      "Maior: 67.0\n"
     ]
    }
   ],
   "source": [
    "numero_1 = float(input(\"Informe o primeiro número: \"))\n",
    "numero_2 = float(input(\"Informe o segundo número: \"))\n",
    "numero_3 = float(input(\"Informe o terceiro número: \"))\n",
    "\n",
    "maior = numero_1\n",
    "\n",
    "if numero_2 > maior:\n",
    "    maior = numero_2\n",
    "\n",
    "if numero_3 > maior:\n",
    "    maior = numero_3\n",
    "\n",
    "print(f\"Maior: {maior}\")"
   ]
  },
  {
   "cell_type": "markdown",
   "metadata": {},
   "source": [
    "**Exercício 07**\n",
    "\n",
    "Faça um Programa que leia três números e mostre o maior e o menor deles."
   ]
  },
  {
   "cell_type": "code",
   "execution_count": 14,
   "metadata": {},
   "outputs": [
    {
     "name": "stdout",
     "output_type": "stream",
     "text": [
      "\n",
      "Maior: 78.0\n",
      "Menor: 34.0\n",
      "\n"
     ]
    }
   ],
   "source": [
    "numero_1 = float(input(\"Informe o primeiro número: \"))\n",
    "numero_2 = float(input(\"Informe o segundo número: \"))\n",
    "numero_3 = float(input(\"Informe o terceiro número: \"))\n",
    "\n",
    "maior = numero_1\n",
    "\n",
    "if numero_2 > maior:\n",
    "    maior = numero_2\n",
    "\n",
    "if numero_3 > maior:\n",
    "    maior = numero_3\n",
    "\n",
    "menor = numero_1\n",
    "\n",
    "if numero_2 < menor:\n",
    "    menor = numero_2\n",
    "\n",
    "if numero_3 < menor:\n",
    "    menor = numero_3\n",
    "\n",
    "print(f\"\"\"\n",
    "Maior: {maior}\n",
    "Menor: {menor}\n",
    "\"\"\")"
   ]
  },
  {
   "cell_type": "code",
   "execution_count": null,
   "metadata": {},
   "outputs": [],
   "source": []
  }
 ],
 "metadata": {
  "interpreter": {
   "hash": "369f2c481f4da34e4445cda3fffd2e751bd1c4d706f27375911949ba6bb62e1c"
  },
  "kernelspec": {
   "display_name": "Python 3.10.3 64-bit",
   "language": "python",
   "name": "python3"
  },
  "language_info": {
   "codemirror_mode": {
    "name": "ipython",
    "version": 3
   },
   "file_extension": ".py",
   "mimetype": "text/x-python",
   "name": "python",
   "nbconvert_exporter": "python",
   "pygments_lexer": "ipython3",
   "version": "3.10.3"
  },
  "orig_nbformat": 4
 },
 "nbformat": 4,
 "nbformat_minor": 2
}
