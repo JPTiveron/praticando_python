{
 "cells": [
  {
   "cell_type": "markdown",
   "metadata": {},
   "source": [
    "# 02 - Estrutura de Decisão"
   ]
  },
  {
   "cell_type": "markdown",
   "metadata": {},
   "source": [
    "**Exercício 01**\n",
    "\n",
    "Faça um Programa que peça dois números e imprima o maior deles."
   ]
  },
  {
   "cell_type": "code",
   "execution_count": 2,
   "metadata": {},
   "outputs": [
    {
     "name": "stdout",
     "output_type": "stream",
     "text": [
      "Maior: 5.0\n"
     ]
    }
   ],
   "source": [
    "numero_1 = float(input(\"Informe o primeiro número: \"))\n",
    "numero_2 = float(input(\"Informe o segundo número: \"))\n",
    "\n",
    "if numero_1 > numero_2:\n",
    "    print(f\"Maior: {numero_1}\")\n",
    "elif numero_2 > numero_1:\n",
    "    print(f\"Maior: {numero_2}\")\n",
    "else:\n",
    "    print(\"Números são iguais\")"
   ]
  },
  {
   "cell_type": "markdown",
   "metadata": {},
   "source": [
    "**Exercício 02**\n",
    "\n",
    "Faça um Programa que peça um valor e mostre na tela se o valor é positivo ou negativo."
   ]
  },
  {
   "cell_type": "code",
   "execution_count": 3,
   "metadata": {},
   "outputs": [
    {
     "name": "stdout",
     "output_type": "stream",
     "text": [
      "Positivo\n"
     ]
    }
   ],
   "source": [
    "numero = float(input(\"Informe um valor numérico: \"))\n",
    "if numero > 0:\n",
    "    print(\"Positivo\")\n",
    "elif numero < 0:\n",
    "    print(\"Negativo\")\n",
    "else:\n",
    "    print(\"Neutro\")"
   ]
  },
  {
   "cell_type": "markdown",
   "metadata": {},
   "source": [
    "**Exercício 03**\n",
    "\n",
    "Faça um Programa que verifique se uma letra digitada é \"F\" ou \"M\". Conforme a letra escrever: F - Feminino, M - Masculino, Sexo Inválido."
   ]
  },
  {
   "cell_type": "code",
   "execution_count": 1,
   "metadata": {},
   "outputs": [
    {
     "name": "stdout",
     "output_type": "stream",
     "text": [
      "Masculino\n"
     ]
    }
   ],
   "source": [
    "sexo = input('Digite o sexo. (M - Masculino, F - Deminino, I - Indefinido): ').upper()\n",
    "\n",
    "if sexo == 'M':\n",
    "    print('Masculino')\n",
    "elif sexo == 'F':\n",
    "    print('Feminino')\n",
    "elif sexo == 'I':\n",
    "    print('Indefinido')\n",
    "else:\n",
    "    print('Sexo inválido')"
   ]
  },
  {
   "cell_type": "markdown",
   "metadata": {},
   "source": [
    "**Exercício 04**\n",
    "\n",
    "Faça um Programa que verifique se uma letra digitada é vogal ou consoante."
   ]
  },
  {
   "cell_type": "code",
   "execution_count": 5,
   "metadata": {},
   "outputs": [
    {
     "name": "stdout",
     "output_type": "stream",
     "text": [
      "E é uma vogal.\n"
     ]
    }
   ],
   "source": [
    "letra = input(\"Digite uma letra: \").upper()\n",
    "if letra in ['A', 'E', 'I', 'O', 'U']:\n",
    "    print(f\"{letra} é uma vogal.\")\n",
    "else:\n",
    "    print(f\"{letra} é uma consoante.\")"
   ]
  },
  {
   "cell_type": "markdown",
   "metadata": {},
   "source": [
    "**Exercício 05**\n",
    "\n",
    "Faça um programa para a leitura de duas notas parciais de um aluno. O programa deve calcular a média alcançada por aluno e apresentar:\n",
    "- A mensagem \"Aprovado\", se a média alcançada for maior ou igual a sete;\n",
    "- A mensagem \"Reprovado\", se a média for menor do que sete;\n",
    "- A mensagem \"Aprovado com Distinção\", se a média for igual a dez."
   ]
  },
  {
   "cell_type": "code",
   "execution_count": 13,
   "metadata": {},
   "outputs": [
    {
     "name": "stdout",
     "output_type": "stream",
     "text": [
      "Sua média foi:  10.0\n",
      "Aprovado com distinção!\n"
     ]
    }
   ],
   "source": [
    "nota_1 = float(input(\"Informe a primeira nota: \"))\n",
    "nota_2 = float(input(\"Informe a segunda nota: \"))\n",
    "media = (nota_1 + nota_2) / 2\n",
    "print(f\"Sua média foi: {media:5.1f}\")\n",
    "\n",
    "if media == 10:\n",
    "    print(\"Aprovado com distinção!\")\n",
    "elif media >= 7:\n",
    "    print(\"Aprovado!\")\n",
    "else:\n",
    "    print(\"Reprovado\")"
   ]
  },
  {
   "cell_type": "markdown",
   "metadata": {},
   "source": [
    "**Exercício 06**\n",
    "\n",
    "Faça um Programa que leia três números e mostre o maior deles."
   ]
  },
  {
   "cell_type": "code",
   "execution_count": 12,
   "metadata": {},
   "outputs": [
    {
     "name": "stdout",
     "output_type": "stream",
     "text": [
      "Maior: 67.0\n"
     ]
    }
   ],
   "source": [
    "numero_1 = float(input(\"Informe o primeiro número: \"))\n",
    "numero_2 = float(input(\"Informe o segundo número: \"))\n",
    "numero_3 = float(input(\"Informe o terceiro número: \"))\n",
    "\n",
    "maior = numero_1\n",
    "\n",
    "if numero_2 > maior:\n",
    "    maior = numero_2\n",
    "\n",
    "if numero_3 > maior:\n",
    "    maior = numero_3\n",
    "\n",
    "print(f\"Maior: {maior}\")"
   ]
  },
  {
   "cell_type": "markdown",
   "metadata": {},
   "source": [
    "**Exercício 07**\n",
    "\n",
    "Faça um Programa que leia três números e mostre o maior e o menor deles."
   ]
  },
  {
   "cell_type": "code",
   "execution_count": 14,
   "metadata": {},
   "outputs": [
    {
     "name": "stdout",
     "output_type": "stream",
     "text": [
      "\n",
      "Maior: 78.0\n",
      "Menor: 34.0\n",
      "\n"
     ]
    }
   ],
   "source": [
    "numero_1 = float(input(\"Informe o primeiro número: \"))\n",
    "numero_2 = float(input(\"Informe o segundo número: \"))\n",
    "numero_3 = float(input(\"Informe o terceiro número: \"))\n",
    "\n",
    "maior = numero_1\n",
    "\n",
    "if numero_2 > maior:\n",
    "    maior = numero_2\n",
    "\n",
    "if numero_3 > maior:\n",
    "    maior = numero_3\n",
    "\n",
    "menor = numero_1\n",
    "\n",
    "if numero_2 < menor:\n",
    "    menor = numero_2\n",
    "\n",
    "if numero_3 < menor:\n",
    "    menor = numero_3\n",
    "\n",
    "print(f\"\"\"\n",
    "Maior: {maior}\n",
    "Menor: {menor}\n",
    "\"\"\")"
   ]
  },
  {
   "cell_type": "markdown",
   "metadata": {},
   "source": [
    "**Exercício 08**\n",
    "\n",
    "Faça um programa que pergunte o preço de três produtos e informe qual produto você deve comprar, sabendo que a decisão é sempre pelo mais barato."
   ]
  },
  {
   "cell_type": "code",
   "execution_count": 17,
   "metadata": {},
   "outputs": [
    {
     "name": "stdout",
     "output_type": "stream",
     "text": [
      "Você deve comprar o Produto 3 que custa R$ 3.00\n"
     ]
    }
   ],
   "source": [
    "valor_1 = float(input(\"Informe o preço do produto 1: \"))\n",
    "valor_2 = float(input(\"Informe o preço do produto 2: \"))\n",
    "valor_3 = float(input(\"Informe o preço do produto 3: \"))\n",
    "\n",
    "menor = valor_1\n",
    "produto = 'Produto 1'\n",
    "\n",
    "if valor_2 < menor:\n",
    "    menor = valor_2\n",
    "    produto = 'Produto 2'\n",
    "\n",
    "if valor_3 < menor:\n",
    "    menor = valor_3\n",
    "    produto = 'Produto 3'\n",
    "\n",
    "print(f\"Você deve comprar o {produto} que custa R$ {menor:4.2f}\")"
   ]
  },
  {
   "cell_type": "markdown",
   "metadata": {},
   "source": [
    "**Exercício 09**\n",
    "\n",
    "Faça um Programa que leia três números e mostre-os em ordem decrescente."
   ]
  },
  {
   "cell_type": "code",
   "execution_count": 2,
   "metadata": {},
   "outputs": [
    {
     "name": "stdout",
     "output_type": "stream",
     "text": [
      "67.0 - 40.0 - 21.0\n"
     ]
    }
   ],
   "source": [
    "numero_1 = float(input(\"Informe o primeiro número: \"))\n",
    "numero_2 = float(input(\"Informe o segundo número: \"))\n",
    "numero_3 = float(input(\"Informe o terceiro número: \"))\n",
    "\n",
    "menor = numero_1\n",
    "maior = numero_1\n",
    "meio = numero_1\n",
    "\n",
    "if numero_2 < numero_1:\n",
    "    menor = numero_2\n",
    "\n",
    "if numero_3 < menor:\n",
    "    menor = numero_3\n",
    "\n",
    "if numero_2 > maior:\n",
    "    maior = numero_2\n",
    "\n",
    "if numero_3 > maior:\n",
    "    maior = numero_3\n",
    "\n",
    "if numero_2 != menor and numero_2 != maior:\n",
    "    meio = numero_2\n",
    "\n",
    "if numero_3 != menor and numero_3 != maior:\n",
    "    meio = numero_3\n",
    "\n",
    "print(f\"{maior} - {meio} - {menor}\")\n"
   ]
  },
  {
   "cell_type": "markdown",
   "metadata": {},
   "source": [
    "**Exercício 10**\n",
    "\n",
    "Faça um Programa que pergunte em que turno você estuda. Peça para digitar M-matutino ou V-Vespertino ou N- Noturno. Imprima a mensagem \"Bom Dia!\", \"Boa Tarde!\" ou \"Boa Noite!\" ou \"Valor Inválido!\", conforme o caso."
   ]
  },
  {
   "cell_type": "code",
   "execution_count": 3,
   "metadata": {},
   "outputs": [
    {
     "name": "stdout",
     "output_type": "stream",
     "text": [
      "\n",
      "Informe o turno em que estuda:\n",
      "M - Matutino\n",
      "V - Vespertino\n",
      "N - Noturno\n",
      "\n",
      "Bom dia!\n"
     ]
    }
   ],
   "source": [
    "print(\"\"\"\n",
    "Informe o turno em que estuda:\n",
    "M - Matutino\n",
    "V - Vespertino\n",
    "N - Noturno\n",
    "\"\"\")\n",
    "turno = input().upper()\n",
    "\n",
    "if turno == 'M':\n",
    "    print(\"Bom dia!\")\n",
    "elif turno == 'V':\n",
    "    print(\"Boa tarde!\")\n",
    "elif turno == 'N':\n",
    "    print(\"Boa noite!\")\n",
    "else:\n",
    "    print(\"Valor Inválido!\")\n",
    "\n"
   ]
  },
  {
   "cell_type": "markdown",
   "metadata": {},
   "source": [
    "**Exercício 11**\n",
    "\n",
    "As Organizações Tabajara resolveram dar um aumento de salário aos seus colaboradores e lhe contrataram para desenvolver o programa que calculará os reajustes.\n",
    "\n",
    "Faça um programa que recebe o salário de um colaborador e o reajuste segundo o seguinte critério, baseado no salário atual:\n",
    "\n",
    "salários até R$ 280,00 (incluindo) : aumento de 20%  \n",
    "salários entre R$ 280,00 e R$ 700,00 : aumento de 15%  \n",
    "salários entre R$ 700,00 e R$ 1500,00 : aumento de 10%  \n",
    "salários de R$ 1500,00 em diante : aumento de 5% \n",
    "\n",
    "Após o aumento ser realizado, informe na tela:\n",
    "- salário antes do reajuste;\n",
    "- percentual de aumento aplicado;\n",
    "- valor do aumento;\n",
    "- novo salário, após o aumento."
   ]
  },
  {
   "cell_type": "code",
   "execution_count": 5,
   "metadata": {},
   "outputs": [
    {
     "name": "stdout",
     "output_type": "stream",
     "text": [
      "\n",
      "Salário Anterior: R$ 560.00\n",
      "Reajuste: 15.0 %\n",
      "Valor do Aumento: R$ 84.00\n",
      "Novo Salário: 644.00 \n",
      "\n"
     ]
    }
   ],
   "source": [
    "salario = float(input(\"Informe o valor do salário: \"))\n",
    "\n",
    "if salario <= 0:\n",
    "    print(\"Valor inválido.\")\n",
    "elif salario <= 280:\n",
    "    reajuste = 20 / 100\n",
    "elif salario <= 700:\n",
    "    reajuste = 15 / 100\n",
    "elif salario <= 1500:\n",
    "    reajuste = 10 / 100\n",
    "else:\n",
    "    reajuste = 5 / 100\n",
    "\n",
    "aumento = salario * reajuste\n",
    "novo_salario = salario + aumento\n",
    "\n",
    "print(f\"\"\"\n",
    "Salário Anterior: R$ {salario:5.2f}\n",
    "Reajuste: {reajuste * 100} %\n",
    "Valor do Aumento: R$ {aumento:5.2f}\n",
    "Novo Salário: {novo_salario:5.2f} \n",
    "\"\"\")"
   ]
  },
  {
   "cell_type": "markdown",
   "metadata": {},
   "source": [
    "**Exercício 12**\n",
    "\n",
    "Faça um programa para o cálculo de uma folha de pagamento, sabendo que os descontos são do Imposto de Renda, que depende do salário bruto (conforme tabela abaixo), 11% para o INSS e 3% para o Sindicato e que o FGTS corresponde a 8% do Salário Bruto, mas não é descontado (é a empresa que deposita). O Salário Líquido corresponde ao Salário Bruto menos os descontos. O programa deverá pedir ao usuário o valor da sua hora e a quantidade de horas trabalhadas no mês.\n",
    "\n",
    "Desconto do IR:  \n",
    "- Salário Bruto até 900 (inclusive) - isento\n",
    "- Salário Bruto até 1500 (inclusive) - desconto de 5%\n",
    "- Salário Bruto até 2500 (inclusive) - desconto de 10%\n",
    "- Salário Bruto acima de 2500 - desconto de 20% \n",
    "\n",
    "Imprima na tela as informações, dispostas conforme o exemplo abaixo. No exemplo o valor da hora é 5 e a quantidade de hora é 220.\n",
    "\n",
    "        Salário Bruto: (5 * 220)        : R$ 1100,00\n",
    "        (-) IR (5%)                     : R$   55,00  \n",
    "        (-) INSS ( 10%)                 : R$  110,00\n",
    "        FGTS (11%)                      : R$  121,00\n",
    "        Total de descontos              : R$  165,00\n",
    "        Salário Liquido                 : R$  935,00"
   ]
  },
  {
   "cell_type": "code",
   "execution_count": 4,
   "metadata": {},
   "outputs": [
    {
     "name": "stdout",
     "output_type": "stream",
     "text": [
      "\n",
      "Salário Bruto: (50.0 * 220.0): R$ 11000.00\n",
      "( - ) IR (20.0 %): R$ 2200.00\n",
      "( - ) INSS (11.0 %): R$ 1210.00\n",
      "FGTS (8.0 %): R$ 880.00\n",
      "Total de Descontos: R$ 3740.00\n",
      "Salário Líquido: R$ 7260.00\n",
      "\n"
     ]
    }
   ],
   "source": [
    "valor_hora = float(input(\"Informe o valor da hora: \"))\n",
    "horas_trabalhadas = float(input(\"Informe a quantidade de horas trabalhadas: \"))\n",
    "\n",
    "salario_bruto = valor_hora * horas_trabalhadas\n",
    "taxa_sindicato = 3/100\n",
    "taxa_inss = 11/100\n",
    "taxa_fgts = 8/100\n",
    "valor_fgts = salario_bruto * taxa_fgts\n",
    "valor_inss = salario_bruto * taxa_inss\n",
    "valor_sindicato = salario_bruto * taxa_sindicato\n",
    "\n",
    "if salario_bruto <= 900:\n",
    "    taxa_ir = 0\n",
    "elif salario_bruto <= 1500:\n",
    "    taxa_ir = 5 / 100\n",
    "elif salario_bruto <= 2500:\n",
    "    taxa_ir = 10 / 100\n",
    "else:\n",
    "    taxa_ir = 20 / 100\n",
    "\n",
    "valor_ir = salario_bruto * taxa_ir\n",
    "valor_descontos = valor_ir + valor_inss + valor_sindicato\n",
    "salario_liquido = salario_bruto - valor_descontos\n",
    "\n",
    "print(f\"\"\"\n",
    "Salário Bruto: ({valor_hora} * {horas_trabalhadas}): R$ {salario_bruto:5.2f}\n",
    "( - ) IR ({taxa_ir * 100} %): R$ {valor_ir:5.2f}\n",
    "( - ) INSS ({taxa_inss * 100} %): R$ {valor_inss:5.2f}\n",
    "FGTS ({taxa_fgts * 100} %): R$ {valor_fgts:5.2f}\n",
    "Total de Descontos: R$ {valor_descontos:5.2f}\n",
    "Salário Líquido: R$ {salario_liquido:5.2f}\n",
    "\"\"\")\n"
   ]
  },
  {
   "cell_type": "markdown",
   "metadata": {},
   "source": [
    "**Exercício 13**\n",
    "\n",
    "Faça um Programa que leia um número e exiba o dia correspondente da semana. (1-Domingo, 2- Segunda, etc.), se digitar outro valor deve aparecer valor inválido."
   ]
  },
  {
   "cell_type": "code",
   "execution_count": 3,
   "metadata": {},
   "outputs": [
    {
     "name": "stdout",
     "output_type": "stream",
     "text": [
      "Valor inválido\n"
     ]
    }
   ],
   "source": [
    "numero = int(input(\"Informe um número da semana (1 a 7): \"))\n",
    "\n",
    "if numero == 1:\n",
    "    dia = \"Domingo\"\n",
    "elif numero == 2:\n",
    "    dia = \"Segunda\"\n",
    "elif numero == 3:\n",
    "    dia = \"Terça\"\n",
    "elif numero == 4:\n",
    "    dia = \"Quarta\"\n",
    "elif numero == 5:\n",
    "    dia = \"Quinta\"\n",
    "elif numero == 6:\n",
    "    dia = \"Sexta\"\n",
    "elif numero == 7:\n",
    "    dia = \"Sábado\"\n",
    "else:\n",
    "    dia = \"Valor inválido\"\n",
    "\n",
    "print(dia)\n"
   ]
  },
  {
   "cell_type": "markdown",
   "metadata": {},
   "source": [
    "**Exercício 14**\n",
    "\n",
    "Faça um programa que lê as duas notas parciais obtidas por um aluno numa disciplina ao longo de um semestre, e calcule a sua média. A atribuição de conceitos obedece à tabela abaixo:\n",
    "\n",
    "|Média de Aproveitamento|Conceito|\n",
    "|---|---|\n",
    "|Entre 9.0 e 10.0|A|\n",
    "|Entre 7.5 e 9.0|B|\n",
    "|Entre 6.0 e 7.5|C|\n",
    "|Entre 4.0 e 6.0|D|\n",
    "|Entre 4.0 e zero|E|\n",
    "\n",
    "O algoritmo deve mostrar na tela as notas, a média, o conceito correspondente e a mensagem “APROVADO” se o conceito for A, B ou C ou “REPROVADO” se o conceito for D ou E."
   ]
  },
  {
   "cell_type": "code",
   "execution_count": 6,
   "metadata": {},
   "outputs": [
    {
     "name": "stdout",
     "output_type": "stream",
     "text": [
      "Conceito: D - Reprovado\n"
     ]
    }
   ],
   "source": [
    "nota_1 = float(input(\"Informe a nota 1: \"))\n",
    "nota_2 = float(input(\"Informe a nota 2: \"))\n",
    "media = (nota_1 + nota_2) / 2\n",
    "conceito = ''\n",
    "\n",
    "if media >= 9:\n",
    "    conceito = 'A'\n",
    "elif media >= 7.5:\n",
    "    conceito = 'B'\n",
    "elif media >= 6:\n",
    "    conceito = 'C'\n",
    "elif media >= 4:\n",
    "    conceito = 'D'\n",
    "else:\n",
    "    conceito = 'E'\n",
    "\n",
    "aprovado = conceito == 'A' or conceito == 'B' or conceito == 'C'\n",
    "\n",
    "if aprovado:\n",
    "    print(f'Conceito: {conceito} - Aprovado')\n",
    "else:\n",
    "    print(f'Conceito: {conceito} - Reprovado')\n"
   ]
  },
  {
   "cell_type": "markdown",
   "metadata": {},
   "source": [
    "**Exercício 15**\n",
    "\n",
    "Faça um Programa que peça os 3 lados de um triângulo. O programa deverá informar se os valores podem ser um triângulo. Indique, caso os lados formem um triângulo, se o mesmo é: equilátero, isósceles ou escaleno.\n",
    "\n",
    "Dicas:\n",
    "- Três lados formam um triângulo quando a soma de quaisquer dois lados for maior que o terceiro;\n",
    "- Triângulo Equilátero: três lados iguais;\n",
    "- Triângulo Isósceles: quaisquer dois lados iguais;\n",
    "- Triângulo Escaleno: três lados diferentes;"
   ]
  },
  {
   "cell_type": "code",
   "execution_count": 5,
   "metadata": {},
   "outputs": [
    {
     "name": "stdout",
     "output_type": "stream",
     "text": [
      "O triângulo de lados 3, 4 e 5 é escaleno.\n"
     ]
    }
   ],
   "source": [
    "a = int(input('Informe o valor do lado A: '))\n",
    "b = int(input('Informe o valor do lado B: '))\n",
    "c = int(input('Informe o valor do lado C: '))\n",
    "\n",
    "eh_triangulo = a + b > c and a + c > b and b + c > a\n",
    "\n",
    "if eh_triangulo:\n",
    "    equilatero = a == b == c\n",
    "    escaleno = a != b != c\n",
    "    if equilatero:\n",
    "        tipo = 'equilátero'\n",
    "    elif escaleno:\n",
    "        tipo = 'escaleno'\n",
    "    else:\n",
    "        tipo = 'isósceles'\n",
    "    print(f'O triângulo de lados {a}, {b} e {c} é {tipo}.')\n",
    "else:\n",
    "    print(f'Não é possível existir um triângulo de lados {a}, {b} e {c}.')"
   ]
  },
  {
   "cell_type": "markdown",
   "metadata": {},
   "source": [
    "**Exercício 16**\n",
    "\n",
    "Faça um programa que calcule as raízes de uma equação do segundo grau, na forma $ax^{2} + bx + c$. O programa deverá pedir os valores de a, b e c e fazer as consistências, informando ao usuário nas seguintes situações:\n",
    "\n",
    "a) Se o usuário informar o valor de A igual a zero, a equação não é do segundo grau e o programa não deve fazer pedir os demais valores, sendo encerrado;  \n",
    "b) Se o delta calculado for negativo, a equação não possui raizes reais. Informe ao usuário e encerre o programa;  \n",
    "c) Se o delta calculado for igual a zero a equação possui apenas uma raiz real; informe-a ao usuário;  \n",
    "d) Se o delta for positivo, a equação possui duas raiz reais; informe-as ao usuário;"
   ]
  },
  {
   "cell_type": "code",
   "execution_count": 9,
   "metadata": {},
   "outputs": [
    {
     "name": "stdout",
     "output_type": "stream",
     "text": [
      "Não se trata de uma equação do segundo grau.\n"
     ]
    }
   ],
   "source": [
    "import math\n",
    "\n",
    "a = float(input(\"Informe o valor de a: \"))\n",
    "b = float(input(\"Informe o valor de b: \"))\n",
    "c = float(input(\"Informe o valor de c: \"))\n",
    "\n",
    "if a == 0:\n",
    "    print('Não se trata de uma equação do segundo grau.')\n",
    "else:\n",
    "    delta = b ** 2 - 4 * a * c\n",
    "    if delta < 0:\n",
    "        print('A equação não possui raízes reais')\n",
    "    elif delta == 0:\n",
    "        x = -b / (2 * a)\n",
    "        print(f'A equação tem apenas uma raiz real: {x}')\n",
    "    else:\n",
    "        x_1 = (-b + math.sqrt(delta)) / (2 * a)\n",
    "        x_2 = (-b - math.sqrt(delta)) / (2 * a)\n",
    "        print(f'A equação tem duas raízes reais: x1 = {x_1} e x2 = {x_2}')\n"
   ]
  },
  {
   "cell_type": "markdown",
   "metadata": {},
   "source": [
    "**Exercício 17**\n",
    "\n",
    "Faça um Programa que peça um número correspondente a um determinado ano e em seguida informe se este ano é ou não bissexto."
   ]
  },
  {
   "cell_type": "markdown",
   "metadata": {},
   "source": [
    "**Exercício 18**\n",
    "\n",
    "Faça um Programa que peça uma data no formato dd/mm/aaaa e determine se a mesma é uma data válida."
   ]
  },
  {
   "cell_type": "markdown",
   "metadata": {},
   "source": [
    "**Exercício 19**\n",
    "\n",
    "Faça um Programa que leia um número inteiro menor que 1000 e imprima a quantidade de centenas, dezenas e unidades do mesmo.\n",
    "\n",
    "Observando os termos no plural a colocação do \"e\", da vírgula entre outros. \n",
    "\n",
    "Exemplo:  \n",
    "326 = 3 centenas, 2 dezenas e 6 unidades  \n",
    "12 = 1 dezena e 2 unidades  \n",
    "Testar com: 326, 300, 100, 320, 310,305, 301, 101, 311, 111, 25, 20, 10, 21, 11, 1, 7 e 16"
   ]
  },
  {
   "cell_type": "code",
   "execution_count": 10,
   "metadata": {},
   "outputs": [
    {
     "name": "stdout",
     "output_type": "stream",
     "text": [
      "2 dezenas e 6 unidades\n",
      " 2 dezenas 6 unidades\n"
     ]
    }
   ],
   "source": [
    "numero = 26\n",
    "centenas_str = dezenas_str = unidades_str = ''\n",
    "\n",
    "centenas_int, numero = divmod(numero, 100) # retorna resultado da divisão inteira e o resto\n",
    "\n",
    "partes_numericas = 0\n",
    "\n",
    "if centenas_int == 1:\n",
    "    centenas_str = '1 centena'\n",
    "    partes_numericas += 1\n",
    "elif centenas_int > 1:\n",
    "    centenas_str = f'{centenas_int} centenas'\n",
    "    partes_numericas += 1\n",
    "\n",
    "\n",
    "dezenas_int, numero = divmod(numero, 10)\n",
    "\n",
    "if dezenas_int == 1:\n",
    "    dezenas_str = '1 dezena'\n",
    "    partes_numericas += 1\n",
    "elif dezenas_int > 1:\n",
    "    dezenas_str = f'{dezenas_int} dezenas'\n",
    "    partes_numericas += 1\n",
    "\n",
    "\n",
    "if numero == 1:\n",
    "    unidades_str = '1 unidade'\n",
    "    partes_numericas += 1\n",
    "elif numero > 1:\n",
    "    unidades_str = f'{numero} unidades'\n",
    "    partes_numericas += 1\n",
    "\n",
    "\n",
    "if partes_numericas == 0:\n",
    "    print('Número 0 não possui centenas, dezenas ou unidades')\n",
    "elif partes_numericas == 1:\n",
    "    print(centenas_str + dezenas_str + unidades_str)\n",
    "elif partes_numericas == 3:\n",
    "    print(f\"{centenas_str}, {dezenas_str} e {unidades_str}\")\n",
    "elif partes_numericas == 2:\n",
    "    if centenas_str != '':\n",
    "        segunda_parte = dezenas_str + unidades_str\n",
    "        print(f\"{centenas_str} e {segunda_parte}\")\n",
    "    else:\n",
    "        print(f\"{dezenas_str} e {unidades_str}\")\n",
    "\n",
    "print(centenas_str, dezenas_str, unidades_str)"
   ]
  },
  {
   "cell_type": "markdown",
   "metadata": {},
   "source": [
    "**Exercício 20**\n",
    "\n",
    "Faça um Programa para leitura de três notas parciais de um aluno. O programa deve calcular a média alcançada por aluno e presentar:\n",
    "\n",
    "a) A mensagem \"Aprovado\", se a média for maior ou igual a 7, com a respectiva média alcançada;  \n",
    "b) A mensagem \"Reprovado\", se a média for menor do que 7, com a respectiva média alcançada;  \n",
    "c) A mensagem \"Aprovado com Distinção\", se a média for igual a 10."
   ]
  },
  {
   "cell_type": "markdown",
   "metadata": {},
   "source": [
    "**Exercício 21**\n",
    "\n",
    "Faça um Programa para um caixa eletrônico. O programa deverá perguntar ao usuário a valor do saque e depois informar quantas notas de cada valor serão fornecidas. As notas disponíveis serão as de 1, 5, 10, 50 e 100 reais. O valor mínimo é de 10 reais e o máximo de 600 reais. O programa não deve se preocupar com a quantidade de notas existentes na máquina.\n",
    "\n",
    "\n",
    "Exemplo 1:  \n",
    "Para sacar a quantia de 256 reais, o programa fornece duas notas de 100, uma nota de 50, uma nota de 5 e uma nota de 1;\n",
    "\n",
    "\n",
    "Exemplo 2:  \n",
    "Para sacar a quantia de 399 reais, o programa fornece três notas de 100, uma nota de 50, quatro notas de 10, uma nota de 5 e quatro notas de 1."
   ]
  },
  {
   "cell_type": "code",
   "execution_count": 15,
   "metadata": {},
   "outputs": [
    {
     "name": "stdout",
     "output_type": "stream",
     "text": [
      "3 nota(s) de R$ 100,00\n",
      "1 nota(s) de R$ 50,00\n",
      "4 nota(s) de R$ 10,00\n",
      "1 nota(s) de R$ 5,00\n",
      "4 nota(s) de R$ 1,00\n",
      "\n"
     ]
    }
   ],
   "source": [
    "valor_do_saque = int(input(\"Informe o valor do saque: \"))\n",
    "valor_minimo = 10\n",
    "valor_maximo = 600\n",
    "\n",
    "notas_100, restante = divmod(valor_do_saque, 100)\n",
    "notas_50, restante = divmod(restante, 50)\n",
    "notas_10, restante = divmod(restante, 10)\n",
    "notas_5, restante = divmod(restante, 5)\n",
    "notas_1 = restante\n",
    "\n",
    "resultado = ''\n",
    "\n",
    "if valor_do_saque < valor_minimo:\n",
    "    resultado += 'Valor não disponível. (Mínimo: R$ 10,00 - Máximo: R$ 600,00'\n",
    "elif valor_do_saque > valor_maximo:\n",
    "    resultado += 'Valor não disponível. (Mínimo: R$ 10,00 - Máximo: R$ 600,00'\n",
    "else:\n",
    "    if notas_100 != 0:\n",
    "        resultado += f'{notas_100} nota(s) de R$ 100,00\\n'\n",
    "    if notas_50 != 0:\n",
    "        resultado += f'{notas_50} nota(s) de R$ 50,00\\n'\n",
    "    if notas_10 != 0:\n",
    "        resultado += f'{notas_10} nota(s) de R$ 10,00\\n'\n",
    "    if notas_5 != 0:\n",
    "        resultado += f'{notas_5} nota(s) de R$ 5,00\\n'\n",
    "    if notas_1 != 0:\n",
    "        resultado += f'{notas_1} nota(s) de R$ 1,00\\n'\n",
    "\n",
    "\n",
    "print(resultado)\n",
    "\n"
   ]
  },
  {
   "cell_type": "markdown",
   "metadata": {},
   "source": [
    "**Exercício 22**\n",
    "\n",
    "Faça um Programa que peça um número inteiro e determine se ele é par ou impar. Dica: utilize o operador módulo (resto da divisão)."
   ]
  },
  {
   "cell_type": "markdown",
   "metadata": {},
   "source": [
    "**Exercício 23**\n",
    "\n",
    "Faça um Programa que peça um número e informe se o número é inteiro ou decimal. Dica: utilize uma função de arredondamento."
   ]
  },
  {
   "cell_type": "markdown",
   "metadata": {},
   "source": [
    "**Exercício 24**\n",
    "\n",
    "Faça um Programa que leia 2 números e em seguida pergunte ao usuário qual operação ele deseja realizar. O resultado da operação deve ser acompanhado de uma frase que diga se o número é:\n",
    "\n",
    "a) par ou ímpar;  \n",
    "b) positivo ou negativo;  \n",
    "c) inteiro ou decimal."
   ]
  },
  {
   "cell_type": "markdown",
   "metadata": {},
   "source": [
    "**Exercício 25**\n",
    "\n",
    "Faça um programa que faça 5 perguntas para uma pessoa sobre um crime. As perguntas são:\n",
    "\n",
    "a) \"Telefonou para a vítima?\"  \n",
    "b) \"Esteve no local do crime?\"  \n",
    "c) \"Mora perto da vítima?\"  \n",
    "d) \"Devia para a vítima?\"  \n",
    "e) \"Já trabalhou com a vítima?\"  \n",
    "\n",
    "O programa deve no final emitir uma classificação sobre a participação da pessoa no crime. \n",
    "\n",
    "Se a pessoa responder positivamente a 2 questões ela deve ser classificada como \"Suspeita\", entre 3 e 4 como \"Cúmplice\" e 5 como \"Assassino\". Caso contrário, ele será classificado como \"Inocente\"."
   ]
  },
  {
   "cell_type": "markdown",
   "metadata": {},
   "source": [
    "**Exercício 26**\n",
    "\n",
    "Um posto está vendendo combustíveis com a seguinte tabela de descontos:\n",
    "- Álcool:\n",
    "    - até 20 litros, desconto de 3% por litro\n",
    "    - acima de 20 litros, desconto de 5% por litro\n",
    "- Gasolina:\n",
    "    - até 20 litros, desconto de 4% por litro\n",
    "    - acima de 20 litros, desconto de 6% por litro \n",
    "    \n",
    "    Escreva um algoritmo que leia o número de litros vendidos, o tipo de combustível (codificado da seguinte forma: A-álcool, G-gasolina), calcule e imprima o valor a ser pago pelo cliente sabendo-se que o preço do litro da gasolina é R$ 2,50 o preço do litro do álcool é R$ 1,90."
   ]
  },
  {
   "cell_type": "markdown",
   "metadata": {},
   "source": [
    "**Exercício 27**\n",
    "\n",
    "Uma fruteira está vendendo frutas com a seguinte tabela de preços:\n",
    "\n",
    "||Até 5 kg|Acima de 5 kg|\n",
    "|---|---|---|\n",
    "|Morango|R$ 2,50 por Kg|R$ 2,20 por Kg|\n",
    "|Maçã|R$ 1,80 por Kg|R$ 1,50 por Kg|\n",
    "\n",
    "\n",
    "Se o cliente comprar mais de 8 Kg em frutas ou o valor total da compra ultrapassar R$ 25,00, receberá ainda um desconto de 10% sobre este total. \n",
    "\n",
    "Escreva um algoritmo para ler a quantidade (em Kg) de morangos e a quantidade (em Kg) de maças adquiridas e escreva o valor a ser pago pelo cliente."
   ]
  },
  {
   "cell_type": "markdown",
   "metadata": {},
   "source": [
    "**Exercício 28**\n",
    "\n",
    "O Hipermercado Tabajara está com uma promoção de carnes que é imperdível. Confira:\n",
    "\n",
    "||Até 5 kg| Acima de 5 kg|\n",
    "|---|---|---|\n",
    "|File Duplo|R$ 4,90 por Kg|R$ 5,80 por Kg|\n",
    "|Alcatra|R$ 5,90 por Kg|R$ 6,80 por Kg|\n",
    "|Picanha|R$ 6,90 por Kg|R$ 7,80 por Kg|\n",
    "\n",
    "Para atender a todos os clientes, cada cliente poderá levar apenas um dos tipos de carne da promoção, porém não há limites para a quantidade de carne por cliente. \n",
    "\n",
    "Se compra for feita no cartão Tabajara o cliente receberá ainda um desconto de 5% sobre o total da compra. \n",
    "\n",
    "Escreva um programa que peça o tipo e a quantidade de carne comprada pelo usuário e gere um cupom fiscal, contendo as informações da compra: tipo e quantidade de carne, preço total, tipo de pagamento, valor do desconto e valor a pagar."
   ]
  },
  {
   "cell_type": "markdown",
   "metadata": {},
   "source": []
  }
 ],
 "metadata": {
  "interpreter": {
   "hash": "369f2c481f4da34e4445cda3fffd2e751bd1c4d706f27375911949ba6bb62e1c"
  },
  "kernelspec": {
   "display_name": "Python 3.10.3 64-bit",
   "language": "python",
   "name": "python3"
  },
  "language_info": {
   "codemirror_mode": {
    "name": "ipython",
    "version": 3
   },
   "file_extension": ".py",
   "mimetype": "text/x-python",
   "name": "python",
   "nbconvert_exporter": "python",
   "pygments_lexer": "ipython3",
   "version": "3.10.3"
  },
  "orig_nbformat": 4
 },
 "nbformat": 4,
 "nbformat_minor": 2
}
