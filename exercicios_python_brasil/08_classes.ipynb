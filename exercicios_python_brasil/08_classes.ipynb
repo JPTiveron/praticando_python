{
 "cells": [
  {
   "cell_type": "markdown",
   "metadata": {},
   "source": [
    "# 08 - Classes"
   ]
  },
  {
   "cell_type": "markdown",
   "metadata": {},
   "source": [
    "**Exercício 01**\n",
    "\n",
    "**Classe Bola:** Crie uma classe que modele uma bola:\n",
    "\n",
    "Atributos: Cor, circunferência, material  \n",
    "Métodos: trocaCor e mostraCor  "
   ]
  },
  {
   "cell_type": "code",
   "execution_count": 4,
   "metadata": {},
   "outputs": [
    {
     "name": "stdout",
     "output_type": "stream",
     "text": [
      "Vermelha Branca\n"
     ]
    }
   ],
   "source": [
    "class Bola:\n",
    "\n",
    "    def __init__(self, cor, circunferencia, material):\n",
    "        self.cor = cor\n",
    "        self.circunferencia = circunferencia\n",
    "        self.material = material\n",
    "\n",
    "    def mostra_cor(self):\n",
    "        return self.cor\n",
    "\n",
    "    def troca_cor(self, cor):\n",
    "        self.cor = cor\n",
    "\n",
    "bola_1 = Bola('Azul', 5, 'Papel')\n",
    "bola_2 = Bola('Branca', 6, 'PVC')\n",
    "\n",
    "bola_1.troca_cor('Vermelha')\n",
    "\n",
    "print(bola_1.mostra_cor(), bola_2.mostra_cor())"
   ]
  },
  {
   "cell_type": "markdown",
   "metadata": {},
   "source": [
    "**Exercício 02**\n",
    "\n",
    "**Classe Quadrado:** Crie uma classe que modele um quadrado:\n",
    "\n",
    "Atributos: Tamanho do lado  \n",
    "Métodos: Mudar valor do Lado, Retornar valor do Lado e calcular Área;"
   ]
  },
  {
   "cell_type": "code",
   "execution_count": 6,
   "metadata": {},
   "outputs": [
    {
     "name": "stdout",
     "output_type": "stream",
     "text": [
      "4\n",
      "5\n",
      "25\n"
     ]
    }
   ],
   "source": [
    "class Quadrado:\n",
    "    def __init__(self, lado = 1):\n",
    "        self.lado = lado\n",
    "\n",
    "    def mudar_lado(self, novo_valor):\n",
    "        self.lado = novo_valor\n",
    "\n",
    "    def mostrar_lado(self):\n",
    "        return self.lado\n",
    "\n",
    "    def calcular_area(self):\n",
    "        area = self.lado ** 2\n",
    "        return area\n",
    "\n",
    "quadrado_1 = Quadrado(4)\n",
    "print(quadrado_1.mostrar_lado())\n",
    "quadrado_1.mudar_lado(5)\n",
    "print(quadrado_1.mostrar_lado())\n",
    "print(quadrado_1.calcular_area())\n",
    "\n"
   ]
  },
  {
   "cell_type": "markdown",
   "metadata": {},
   "source": [
    "**Exercício 03**\n",
    "\n",
    "**Classe Retangulo:** Crie uma classe que modele um retangulo:\n",
    "\n",
    "Atributos: LadoA, LadoB (ou Comprimento e Largura, ou Base e Altura, a escolher)  \n",
    "Métodos: Mudar valor dos lados, Retornar valor dos lados, calcular Área e calcular Perímetro;  \n",
    "Crie um programa que utilize esta classe. \n",
    "\n",
    "Ele deve pedir ao usuário que informe as medidas de um local. Depois, deve criar um objeto com as medidas e calcular a quantidade de pisos e de rodapés necessárias para o local."
   ]
  },
  {
   "cell_type": "code",
   "execution_count": 7,
   "metadata": {},
   "outputs": [
    {
     "name": "stdout",
     "output_type": "stream",
     "text": [
      "20\n"
     ]
    }
   ],
   "source": [
    "class Retangulo:\n",
    "    def __init__(self, comprimento, largura):\n",
    "        self.comprimento = comprimento\n",
    "        self.largura = largura\n",
    "\n",
    "    def mudar_comprimento(self, novo_comprimento):\n",
    "        self.comprimento = novo_comprimento\n",
    "\n",
    "    def mudar_largura(self, nova_largura):\n",
    "        self.largura = nova_largura\n",
    "\n",
    "    def mostrar_comprimento(self):\n",
    "        return self.comprimento\n",
    "\n",
    "    def mostrar_largura(self):\n",
    "        return self.largura\n",
    "\n",
    "    def calcular_area(self):\n",
    "        area = self.comprimento * self.largura\n",
    "        return area\n",
    "\n",
    "    def calcular_perimetro(self):\n",
    "        perimetro = 2 * (self.comprimento + self.largura)\n",
    "\n",
    "\n",
    "largura = int(input('Informe a medida da largura: '))\n",
    "comprimento = int(input('Informe a medida do comprimento'))\n",
    "\n",
    "local = Retangulo(comprimento, largura)\n",
    "print(local.calcular_area())\n",
    "\n"
   ]
  },
  {
   "cell_type": "markdown",
   "metadata": {},
   "source": [
    "**Exercício 04**\n",
    "\n",
    "Classe Pessoa: Crie uma classe que modele uma pessoa:\n",
    "\n",
    "Atributos: nome, idade, peso e altura  \n",
    "Métodos: Envelhecer, engordar, emagrecer, crescer. \n",
    "\n",
    "Obs: Por padrão, a cada ano que nossa pessoa envelhece, sendo a idade dela menor que 21 anos, ela deve crescer 0,5 cm."
   ]
  },
  {
   "cell_type": "code",
   "execution_count": 9,
   "metadata": {},
   "outputs": [
    {
     "name": "stdout",
     "output_type": "stream",
     "text": [
      "Idade de Otavio é: 3 anos e sua altura é 80.5 cm\n",
      "Idade de Otavio é: 4 anos e sua altura é 81.0 cm\n",
      "Idade de Otavio é: 5 anos e sua altura é 81.5 cm\n",
      "Idade de Otavio é: 6 anos e sua altura é 82.0 cm\n",
      "Idade de Otavio é: 7 anos e sua altura é 82.5 cm\n",
      "Idade de Otavio é: 8 anos e sua altura é 83.0 cm\n",
      "Idade de Otavio é: 9 anos e sua altura é 83.5 cm\n",
      "Idade de Otavio é: 10 anos e sua altura é 84.0 cm\n",
      "Idade de Otavio é: 11 anos e sua altura é 84.5 cm\n",
      "Idade de Otavio é: 12 anos e sua altura é 85.0 cm\n",
      "Idade de Otavio é: 13 anos e sua altura é 85.5 cm\n",
      "Idade de Otavio é: 14 anos e sua altura é 86.0 cm\n",
      "Idade de Otavio é: 15 anos e sua altura é 86.5 cm\n",
      "Idade de Otavio é: 16 anos e sua altura é 87.0 cm\n",
      "Idade de Otavio é: 17 anos e sua altura é 87.5 cm\n",
      "Idade de Otavio é: 18 anos e sua altura é 88.0 cm\n",
      "Idade de Otavio é: 19 anos e sua altura é 88.5 cm\n",
      "Idade de Otavio é: 20 anos e sua altura é 89.0 cm\n",
      "Idade de Otavio é: 21 anos e sua altura é 89.0 cm\n",
      "Idade de Otavio é: 22 anos e sua altura é 89.0 cm\n",
      "Idade de Otavio é: 23 anos e sua altura é 89.0 cm\n",
      "Idade de Otavio é: 24 anos e sua altura é 89.0 cm\n"
     ]
    }
   ],
   "source": [
    "class Pessoa:\n",
    "    def __init__(self, nome, idade, peso, altura):\n",
    "        self.nome = nome\n",
    "        self.idade = idade\n",
    "        self.peso = peso\n",
    "        self.altura = altura\n",
    "\n",
    "    def envelhecer(self):\n",
    "        self.idade += 1\n",
    "        self.crescer()\n",
    "\n",
    "    def engordar(self):\n",
    "        self.peso += 2\n",
    "\n",
    "    def emagrecer(self):\n",
    "        self.peso -= 1\n",
    "\n",
    "    def crescer(self):\n",
    "        if self.idade < 21:\n",
    "            self.altura += 0.5\n",
    "        \n",
    "\n",
    "otavio = Pessoa('Otavio', 2, 12, 80)\n",
    "\n",
    "for _ in range(22):\n",
    "    otavio.envelhecer()\n",
    "    print(f'Idade de {otavio.nome} é: {otavio.idade} anos e sua altura é {otavio.altura} cm')\n",
    "    "
   ]
  },
  {
   "cell_type": "markdown",
   "metadata": {},
   "source": [
    "**Exercício 05**\n",
    "\n",
    "**Classe Conta Corrente:** Crie uma classe para implementar uma conta corrente. A classe deve possuir os seguintes atributos: número da conta, nome do correntista e saldo. Os métodos são os seguintes: alterarNome, depósito e saque; No construtor, saldo é opcional, com valor default zero e os demais atributos são obrigatórios."
   ]
  },
  {
   "cell_type": "markdown",
   "metadata": {},
   "source": [
    "**Exercício 06**\n",
    "\n",
    "**Classe TV:** Faça um programa que simule um televisor criando-o como um objeto. O usuário deve ser capaz de informar o número do canal e aumentar ou diminuir o volume. Certifique-se de que o número do canal e o nível do volume permanecem dentro de faixas válidas."
   ]
  },
  {
   "cell_type": "markdown",
   "metadata": {},
   "source": [
    "**Exercício 07**\n",
    "\n",
    "**Classe Bichinho Virtual:** Crie uma classe que modele um Tamagushi (Bichinho Eletrônico):\n",
    "\n",
    "a. Atributos: Nome, Fome, Saúde e Idade  \n",
    "b. Métodos: Alterar Nome, Fome, Saúde e Idade;  \n",
    "Retornar Nome, Fome, Saúde e Idade \n",
    "\n",
    "Obs: Existe mais uma informação que devemos levar em consideração, o Humor do nosso tamagushi, este humor é uma combinação entre os atributos Fome e Saúde, ou seja, um campo calculado, então não devemos criar um atributo para armazenar esta informação por que ela pode ser calculada a qualquer momento"
   ]
  },
  {
   "cell_type": "markdown",
   "metadata": {},
   "source": [
    "**Exercício 08**\n",
    "\n",
    "**Classe Macaco:** Desenvolva uma classe Macaco,que possua os atributos nome e bucho (estomago) e pelo menos os métodos comer(), verBucho() e digerir(). Faça um programa ou teste interativamente, criando pelo menos dois macacos, alimentando-os com pelo menos 3 alimentos diferentes e verificando o conteúdo do estomago a cada refeição. Experimente fazer com que um macaco coma o outro. É possível criar um macaco canibal?"
   ]
  },
  {
   "cell_type": "markdown",
   "metadata": {},
   "source": [
    "**Exercício 09**\n",
    "\n",
    "**Classe Ponto e Retangulo:** Faça um programa completo utilizando funções e classes que:\n",
    "\n",
    "a) Possua uma classe chamada Ponto, com os atributos x e y.  \n",
    "b) Possua uma classe chamada Retangulo, com os atributos largura e altura.  \n",
    "c) Possua uma função para imprimir os valores da classe Ponto.  \n",
    "d) Possua uma função para encontrar o centro de um Retângulo.  \n",
    "e) Você deve criar alguns objetos da classe Retangulo.  \n",
    "f) Cada objeto deve ter um vértice de partida, por exemplo, o vértice inferior esquerdo do retângulo, que deve ser um objeto da classe Ponto.  \n",
    "g) A função para encontrar o centro do retângulo deve retornar o valor para um objeto do tipo ponto que indique os valores de x e y para o centro do objeto.  \n",
    "h) O valor do centro do objeto deve ser mostrado na tela  \n",
    "i) Crie um menu para alterar os valores do retângulo e imprimir o centro deste retângulo."
   ]
  },
  {
   "cell_type": "markdown",
   "metadata": {},
   "source": [
    "**Exercício 10**\n",
    "\n",
    "**Classe Bomba de Combustível:** Faça um programa completo utilizando classes e métodos que:\n",
    "\n",
    "- Possua uma classe chamada bombaCombustível, com no mínimo esses atributos:  \n",
    "    1. tipoCombustivel  \n",
    "    2. valorLitro  \n",
    "    3. quantidadeCombustivel\n",
    "- Possua no mínimo esses métodos:  \n",
    "    1. abastecerPorValor( ) – método onde é informado o valor a ser abastecido e mostra a quantidade de litros que foi colocada no veículo  \n",
    "    2. abastecerPorLitro( ) – método onde é informado a quantidade em litros de combustível e mostra o valor a ser pago pelo cliente.  \n",
    "    3. alterarValor( ) – altera o valor do litro do combustível.  \n",
    "    4. alterarCombustivel( ) – altera o tipo do combustível.  \n",
    "    5. alterarQuantidadeCombustivel( ) – altera a quantidade de combustível restante na bomba.\n",
    "    \n",
    "OBS: Sempre que acontecer um abastecimento é necessário atualizar a quantidade de combustível total na bomba."
   ]
  },
  {
   "cell_type": "markdown",
   "metadata": {},
   "source": [
    "**Exercício 11**\n",
    "\n",
    "**Classe carro:** Implemente uma classe chamada Carro com as seguintes propriedades:\n",
    "\n",
    "a) Um veículo tem um certo consumo de combustível (medidos em km / litro) e uma certa quantidade de combustível no tanque.  \n",
    "b) O consumo é especificado no construtor e o nível de combustível inicial é 0.  \n",
    "c) Forneça um método andar( ) que simule o ato de dirigir o veículo por uma certa distância, reduzindo o nível de combustível no tanque de gasolina.  \n",
    "d) Forneça um método obterGasolina( ), que retorna o nível atual de combustível.  \n",
    "e) Forneça um método adicionarGasolina( ), para abastecer o tanque. \n",
    "\n",
    "Exemplo de uso:\n",
    "\n",
    "```\n",
    "meuFusca = Carro(15);           # 15 quilômetros por litro de combustível. \n",
    "meuFusca.adicionarGasolina(20); # abastece com 20 litros de combustível. \n",
    "meuFusca.andar(100);            # anda 100 quilômetros.\n",
    "meuFusca.obterGasolina()        # Imprime o combustível que resta no tanque.\n",
    "```\n"
   ]
  },
  {
   "cell_type": "markdown",
   "metadata": {},
   "source": [
    "**Exercício 12**\n",
    "\n",
    "**Classe Conta de Investimento:** Faça uma classe contaInvestimento que seja semelhante a classe contaBancaria, com a diferença de que se adicione um atributo taxaJuros. Forneça um construtor que configure tanto o saldo inicial como a taxa de juros. Forneça um método adicioneJuros (sem parâmetro explícito) que adicione juros à conta. Escreva um programa que construa uma poupança com um saldo inicial de R$1000,00 e uma taxa de juros de 10%. Depois aplique o método adicioneJuros() cinco vezes e imprime o saldo resultante."
   ]
  },
  {
   "cell_type": "markdown",
   "metadata": {},
   "source": [
    "**Exercício 13**\n",
    "\n",
    "**Classe Funcionário:** Implemente a classe Funcionário. Um empregado tem um nome (um string) e um salário(um double). Escreva um construtor com dois parâmetros (nome e salário) e métodos para devolver nome e salário. Escreva um pequeno programa que teste sua classe."
   ]
  },
  {
   "cell_type": "markdown",
   "metadata": {},
   "source": [
    "**Exercício 14**\n",
    "\n",
    "Aprimore a classe do exercício anterior para adicionar o método aumentarSalario (porcentualDeAumento) que aumente o salário do funcionário em uma certa porcentagem.\n",
    "Exemplo de uso:\n",
    "\n",
    "```\n",
    "  harry=funcionário(\"Harry\",25000)\n",
    "  harry.aumentarSalario(10)\n",
    "```"
   ]
  },
  {
   "cell_type": "markdown",
   "metadata": {},
   "source": [
    "**Exercício 15**\n",
    "\n",
    "**Classe Bichinho Virtual++:** Melhore o programa do bichinho virtual, permitindo que o usuário especifique quanto de comida ele fornece ao bichinho e por quanto tempo ele brinca com o bichinho. Faça com que estes valores afetem quão rapidamente os níveis de fome e tédio caem."
   ]
  },
  {
   "cell_type": "markdown",
   "metadata": {},
   "source": [
    "**Exercício 16**\n",
    "\n",
    "Crie uma \"porta escondida\" no programa do programa do bichinho virtual que mostre os valores exatos dos atributos do objeto. Consiga isto mostrando o objeto quando uma opção secreta, não listada no menu, for informada na escolha do usuário. Dica: acrescente um método especial str() à classe Bichinho."
   ]
  },
  {
   "cell_type": "markdown",
   "metadata": {},
   "source": [
    "**Exercício 17**\n",
    "\n",
    "Crie uma Fazenda de Bichinhos instanciando vários objetos bichinho e mantendo o controle deles através de uma lista. Imite o funcionamento do programa básico, mas ao invés de exigis que o usuário tome conta de um único bichinho, exija que ele tome conta da fazenda inteira. Cada opção do menu deveria permitir que o usuário executasse uma ação para todos os bichinhos (alimentar todos os bichinhos, brincar com todos os bichinhos, ou ouvir a todos os bichinhos). Para tornar o programa mais interessante, dê para cada bichinho um nivel inicial aleatório de fome e tédio."
   ]
  },
  {
   "cell_type": "markdown",
   "metadata": {},
   "source": []
  }
 ],
 "metadata": {
  "interpreter": {
   "hash": "369f2c481f4da34e4445cda3fffd2e751bd1c4d706f27375911949ba6bb62e1c"
  },
  "kernelspec": {
   "display_name": "Python 3.10.3 64-bit",
   "language": "python",
   "name": "python3"
  },
  "language_info": {
   "codemirror_mode": {
    "name": "ipython",
    "version": 3
   },
   "file_extension": ".py",
   "mimetype": "text/x-python",
   "name": "python",
   "nbconvert_exporter": "python",
   "pygments_lexer": "ipython3",
   "version": "3.10.3"
  },
  "orig_nbformat": 4
 },
 "nbformat": 4,
 "nbformat_minor": 2
}
