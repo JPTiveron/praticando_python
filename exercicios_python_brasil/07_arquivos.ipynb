{
 "cells": [
  {
   "cell_type": "markdown",
   "metadata": {},
   "source": [
    "# 07 - Arquivos"
   ]
  },
  {
   "cell_type": "markdown",
   "metadata": {},
   "source": [
    "**Exercício 01**\n",
    "\n",
    "Faça um programa que leia um arquivo texto contendo uma lista de endereços IP e gere um outro arquivo, contendo um relatório dos endereços IP válidos e inválidos.\n",
    "\n",
    "O arquivo de entrada possui o seguinte formato:\n",
    "\n",
    "200.135.80.9  \n",
    "192.168.1.1  \n",
    "8.35.67.74  \n",
    "257.32.4.5  \n",
    "85.345.1.2  \n",
    "1.2.3.4  \n",
    "9.8.234.5  \n",
    "192.168.0.256\n",
    "\n",
    "O arquivo de saída possui o seguinte formato:\n",
    "\n",
    "[Endereços válidos:]  \n",
    "200.135.80.9  \n",
    "192.168.1.1  \n",
    "8.35.67.74  \n",
    "1.2.3.4  \n",
    "\n",
    "[Endereços inválidos:]  \n",
    "257.32.4.5  \n",
    "85.345.1.2  \n",
    "9.8.234.5  \n",
    "192.168.0.256  "
   ]
  },
  {
   "cell_type": "markdown",
   "metadata": {},
   "source": [
    "**Exercício 02**\n",
    "\n",
    "A ACME Inc., uma empresa de 500 funcionários, está tendo problemas de espaço em disco no seu servidor de arquivos. Para tentar resolver este problema, o Administrador de Rede precisa saber qual o espaço ocupado pelos usuários, e identificar os usuários com maior espaço ocupado. Através de um programa, baixado da Internet, ele conseguiu gerar o seguinte arquivo, chamado \"usuarios.txt\":\n",
    "\n",
    "```\n",
    "alexandre       456123789\n",
    "anderson        1245698456\n",
    "antonio         123456456\n",
    "carlos          91257581\n",
    "cesar           987458\n",
    "rosemary        789456125\n",
    "```\n",
    "\n",
    "Neste arquivo, o nome do usuário possui 15 caracteres. A partir deste arquivo, você deve criar um programa que gere um relatório, chamado \"relatório.txt\", no seguinte formato:\n",
    "\n",
    "```\n",
    "ACME Inc.               Uso do espaço em disco pelos usuários\n",
    "------------------------------------------------------------------------\n",
    "Nr.  Usuário        Espaço utilizado     % do uso\n",
    "\n",
    "1    alexandre       434,99 MB             16,85%\n",
    "2    anderson       1187,99 MB             46,02%\n",
    "3    antonio         117,73 MB              4,56%\n",
    "4    carlos           87,03 MB              3,37%\n",
    "5    cesar             0,94 MB              0,04%\n",
    "6    rosemary        752,88 MB             29,16%\n",
    "\n",
    "Espaço total ocupado: 2581,57 MB\n",
    "Espaço médio ocupado: 430,26 MB\n",
    "```\n",
    "\n",
    "O arquivo de entrada deve ser lido uma única vez, e os dados armazenados em memória, caso sejam necessários, de forma a agilizar a execução do programa. A conversão da espaço ocupado em disco, de bytes para megabytes deverá ser feita através de uma função separada, que será chamada pelo programa principal. O cálculo do percentual de uso também deverá ser feito através de uma função, que será chamada pelo programa principal."
   ]
  },
  {
   "cell_type": "markdown",
   "metadata": {},
   "source": []
  }
 ],
 "metadata": {
  "language_info": {
   "name": "python"
  },
  "orig_nbformat": 4
 },
 "nbformat": 4,
 "nbformat_minor": 2
}
