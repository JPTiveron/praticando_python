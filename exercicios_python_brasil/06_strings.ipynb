{
 "cells": [
  {
   "cell_type": "markdown",
   "metadata": {},
   "source": [
    "# 06 - Strings"
   ]
  },
  {
   "cell_type": "markdown",
   "metadata": {},
   "source": [
    "**Exercício 01**\n",
    "\n",
    "**Tamanho de strings.** Faça um programa que leia 2 strings e informe o conteúdo delas seguido do seu comprimento. Informe também se as duas strings possuem o mesmo comprimento e são iguais ou diferentes no conteúdo.\n",
    "\n",
    "Compara duas strings  \n",
    "String 1: Brasil Hexa 2006  \n",
    "String 2: Brasil! Hexa 2006!  \n",
    "Tamanho de \"Brasil Hexa 2006\": 16 caracteres  \n",
    "Tamanho de \"Brasil! Hexa 2006!\": 18 caracteres  \n",
    "As duas strings são de tamanhos diferentes.  \n",
    "As duas strings possuem conteúdo diferente."
   ]
  },
  {
   "cell_type": "code",
   "execution_count": 4,
   "metadata": {},
   "outputs": [
    {
     "name": "stdout",
     "output_type": "stream",
     "text": [
      "\"Brasil Hexa 2006\": 16 caracteres\n",
      "\"Brasil! Hexa 2006!\": 18 caracteres\n",
      "As duas strings são de tamanhos diferentes\n",
      "As duas strings possuem conteúdo diferente\n"
     ]
    }
   ],
   "source": [
    "s1 = input('Digite uma string: ')\n",
    "s2 = input('Digite outra string: ')\n",
    "\n",
    "tamanho1 = len(s1)\n",
    "tamanho2 = len(s2)\n",
    "\n",
    "print(f'\"{s1}\": {tamanho1} caracteres')\n",
    "print(f'\"{s2}\": {tamanho2} caracteres')\n",
    "\n",
    "comparacao_de_tamanhos = 'diferentes'\n",
    "comparacao_de_conteudo = 'diferente'\n",
    "\n",
    "if s1 == s2:\n",
    "    comparacao_de_tamanhos = 'iguais'\n",
    "    comparacao_de_conteudo = 'igual'\n",
    "elif tamanho1 == tamanho2:\n",
    "    comparacao_de_tamanhos = 'iguais'\n",
    "\n",
    "print(f'As duas strings são de tamanhos {comparacao_de_tamanhos}')\n",
    "print(f'As duas strings possuem conteúdo {comparacao_de_conteudo}')\n",
    "\n"
   ]
  },
  {
   "cell_type": "markdown",
   "metadata": {},
   "source": [
    "**Exercício 02**\n",
    "\n",
    "**Nome ao contrário em maiúsculas.** Faça um programa que permita ao usuário digitar o seu nome e em seguida mostre o nome do usuário de trás para frente utilizando somente letras maiúsculas. Dica: lembre−se que ao informar o nome o usuário pode digitar letras maiúsculas ou minúsculas."
   ]
  },
  {
   "cell_type": "markdown",
   "metadata": {},
   "source": [
    "**Exercício 03**\n",
    "\n",
    "**Nome na vertical.** Faça um programa que solicite o nome do usuário e imprima-o na vertical.\n",
    "\n",
    "F  \n",
    "U  \n",
    "L  \n",
    "A  \n",
    "N  \n",
    "O"
   ]
  },
  {
   "cell_type": "markdown",
   "metadata": {},
   "source": [
    "**Exercício 04**\n",
    "\n",
    "**Nome na vertical em escada.** Modifique o programa anterior de forma a mostrar o nome em formato de escada.\n",
    "\n",
    "F  \n",
    "FU  \n",
    "FUL  \n",
    "FULA  \n",
    "FULAN  \n",
    "FULANO"
   ]
  },
  {
   "cell_type": "markdown",
   "metadata": {},
   "source": [
    "**Exercício 05**\n",
    "\n",
    "**Nome na vertical em escada invertida.** Altere o programa anterior de modo que a escada seja invertida.\n",
    "\n",
    "FULANO  \n",
    "FULAN  \n",
    "FULA  \n",
    "FUL  \n",
    "FU  \n",
    "F"
   ]
  },
  {
   "cell_type": "markdown",
   "metadata": {},
   "source": [
    "**Exercício 06**\n",
    "\n",
    "**Data por extenso.** Faça um programa que solicite a data de nascimento (dd/mm/aaaa) do usuário e imprima a data com o nome do mês por extenso.\n",
    "\n",
    "Data de Nascimento: 29/10/1973  \n",
    "Você nasceu em  29 de Outubro de 1973."
   ]
  },
  {
   "cell_type": "markdown",
   "metadata": {},
   "source": [
    "**Exercício 07**\n",
    "\n",
    "**Conta espaços e vogais.** Dado uma string com uma frase informada pelo usuário (incluindo espaços em branco), conte:\n",
    "\n",
    "quantos espaços em branco existem na frase.  \n",
    "quantas vezes aparecem as vogais a, e, i, o, u."
   ]
  },
  {
   "cell_type": "markdown",
   "metadata": {},
   "source": [
    "**Exercício 08**\n",
    "\n",
    "**Palíndromo.** Um palíndromo é uma seqüência de caracteres cuja leitura é idêntica se feita da direita para esquerda ou vice−versa. Por exemplo: **OSSO** e **OVO** são palíndromos. Em textos mais complexos os espaços e pontuação são ignorados. A frase **SUBI NO ONIBUS** é o exemplo de uma frase palíndroma onde os espaços foram ignorados. Faça um programa que leia uma seqüência de caracteres, mostre−a e diga se é um palíndromo ou não."
   ]
  },
  {
   "cell_type": "markdown",
   "metadata": {},
   "source": [
    "**Exercício 09**\n",
    "\n",
    "Verificação de CPF. Desenvolva um programa que solicite a digitação de um número de CPF no formato **xxx.xxx.xxx-xx** e indique se é um número válido ou inválido através da validação dos dígitos verificadores edos caracteres de formatação."
   ]
  },
  {
   "cell_type": "markdown",
   "metadata": {},
   "source": [
    "**Exercício 10**\n",
    "\n",
    "**Número por extenso.** Escreva um programa que solicite ao usuário a digitação de um número até 99 e imprima-o na tela por extenso."
   ]
  },
  {
   "cell_type": "markdown",
   "metadata": {},
   "source": [
    "**Exercício 11**\n",
    "\n",
    "**Jogo de Forca.** Desenvolva um jogo da forca. O programa terá uma lista de palavras lidas de um arquivo texto e escolherá uma aleatoriamente. O jogador poderá errar 6 vezes antes de ser enforcado.\n",
    "\n",
    "Digite uma letra: A  \n",
    "-> Você errou pela 1ª vez. Tente de novo!  \n",
    "\n",
    "Digite uma letra: O  \n",
    "A palavra é: _ _ _ _ O  \n",
    "\n",
    "Digite uma letra: E  \n",
    "A palavra é: _ E _ _ O  \n",
    "\n",
    "Digite uma letra: S  \n",
    "-> Você errou pela 2ª vez. Tente de novo!"
   ]
  },
  {
   "cell_type": "markdown",
   "metadata": {},
   "source": [
    "**Exercício 12**\n",
    "\n",
    "**Valida e corrige número de telefone.** Faça um programa que leia um número de telefone, e corrija o número no caso deste conter somente 7 dígitos, acrescentando o '3' na frente. O usuário pode informar o número com ou sem o traço separador.\n",
    "\n",
    "Valida e corrige número de telefone  \n",
    "Telefone: 461-0133  \n",
    "Telefone possui 7 dígitos. Vou acrescentar o digito três na frente.  \n",
    "Telefone corrigido sem formatação: 34610133  \n",
    "Telefone corrigido com formatação: 3461-0133"
   ]
  },
  {
   "cell_type": "markdown",
   "metadata": {},
   "source": [
    "**Exercício 13**\n",
    "\n",
    "**Jogo da palavra embaralhada.** Desenvolva um jogo em que o usuário tenha que adivinhar uma palavra que será mostrada com as letras embaralhadas. O programa terá uma lista de palavras lidas de um arquivo texto e escolherá uma aleatoriamente. O jogador terá seis tentativas para adivinhar a palavra. Ao final a palavra deve ser mostrada na tela, informando se o usuário ganhou ou perdeu o jogo."
   ]
  },
  {
   "cell_type": "markdown",
   "metadata": {},
   "source": [
    "**Exercício 14**\n",
    "\n",
    "**Leet spek generator.** Leet é uma forma de se escrever o alfabeto latino usando outros símbolos em lugar das letras, como números por exemplo. A própria palavra leet admite muitas variações, como l33t ou 1337. O uso do leet reflete uma subcultura relacionada ao mundo dos jogos de computador e internet, sendo muito usada para confundir os iniciantes e afirmar-se como parte de um grupo. Pesquise sobre as principais formas de traduzir as letras. Depois, faça um programa que peça uma texto e transforme-o para a grafia leet speak."
   ]
  }
 ],
 "metadata": {
  "interpreter": {
   "hash": "369f2c481f4da34e4445cda3fffd2e751bd1c4d706f27375911949ba6bb62e1c"
  },
  "kernelspec": {
   "display_name": "Python 3.10.3 64-bit",
   "language": "python",
   "name": "python3"
  },
  "language_info": {
   "codemirror_mode": {
    "name": "ipython",
    "version": 3
   },
   "file_extension": ".py",
   "mimetype": "text/x-python",
   "name": "python",
   "nbconvert_exporter": "python",
   "pygments_lexer": "ipython3",
   "version": "3.10.3"
  },
  "orig_nbformat": 4
 },
 "nbformat": 4,
 "nbformat_minor": 2
}
