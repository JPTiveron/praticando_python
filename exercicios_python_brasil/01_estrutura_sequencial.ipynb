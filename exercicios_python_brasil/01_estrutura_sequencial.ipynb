{
 "cells": [
  {
   "cell_type": "markdown",
   "metadata": {},
   "source": [
    "# 01 - Estrutura Sequencial"
   ]
  },
  {
   "cell_type": "markdown",
   "metadata": {},
   "source": [
    "**Exercício 01**\n",
    "\n",
    "Faça um Programa que mostre a mensagem \"Alo mundo\" na tela."
   ]
  },
  {
   "cell_type": "code",
   "execution_count": 1,
   "metadata": {},
   "outputs": [
    {
     "name": "stdout",
     "output_type": "stream",
     "text": [
      "Alô Mundo!!\n"
     ]
    }
   ],
   "source": [
    "print(\"Alô Mundo!!\")"
   ]
  },
  {
   "cell_type": "markdown",
   "metadata": {},
   "source": [
    "**Exercício 02**\n",
    "\n",
    "Faça um Programa que peça um número e então mostre a mensagem: O número informado foi [número]."
   ]
  },
  {
   "cell_type": "code",
   "execution_count": 2,
   "metadata": {},
   "outputs": [
    {
     "name": "stdout",
     "output_type": "stream",
     "text": [
      "O número informado foi 5.0\n"
     ]
    }
   ],
   "source": [
    "numero = float(input(\"Informe um número: \"))\n",
    "print(f\"O número informado foi {numero}\")"
   ]
  },
  {
   "cell_type": "markdown",
   "metadata": {},
   "source": [
    "**Exercício 03**\n",
    "\n",
    "Faça um Programa que peça dois números e imprima a soma."
   ]
  },
  {
   "cell_type": "code",
   "execution_count": 3,
   "metadata": {},
   "outputs": [
    {
     "name": "stdout",
     "output_type": "stream",
     "text": [
      "10.0 + 20.0 = 30.0\n"
     ]
    }
   ],
   "source": [
    "numero_1 = float(input(\"Informe o primeiro número: \"))\n",
    "numero_2 = float(input(\"Informe o segundo número: \"))\n",
    "soma = numero_1 + numero_2\n",
    "\n",
    "print(f\"{numero_1} + {numero_2} = {soma}\")"
   ]
  },
  {
   "cell_type": "markdown",
   "metadata": {},
   "source": [
    "**Exercício 04**\n",
    "\n",
    "Faça um Programa que peça as 4 notas bimestrais e mostre a média."
   ]
  },
  {
   "cell_type": "code",
   "execution_count": 4,
   "metadata": {},
   "outputs": [
    {
     "name": "stdout",
     "output_type": "stream",
     "text": [
      "Média: 9.75\n"
     ]
    }
   ],
   "source": [
    "nota_1 = float(input(\"Informe a nota N1: \"))\n",
    "nota_2 = float(input(\"Informe a nota N2: \"))\n",
    "nota_3 = float(input(\"Informe a nota N3: \"))\n",
    "nota_4 = float(input(\"Informe a nota N4: \"))\n",
    "\n",
    "media = (nota_1 + nota_2 + nota_3 + nota_4) / 4\n",
    "\n",
    "print(f\"Média: {media}\")"
   ]
  },
  {
   "cell_type": "markdown",
   "metadata": {},
   "source": [
    "**Exercício 05**\n",
    "\n",
    "Faça um Programa que converta metros para centímetros."
   ]
  },
  {
   "cell_type": "code",
   "execution_count": 5,
   "metadata": {},
   "outputs": [
    {
     "name": "stdout",
     "output_type": "stream",
     "text": [
      "2.0 metros é equivalente a 200.0 centimetros.\n"
     ]
    }
   ],
   "source": [
    "metros = float(input(\"Informe o valor em metros: \"))\n",
    "centimetros = metros * 100\n",
    "print(f\"{metros} metros é equivalente a {centimetros} centimetros.\")"
   ]
  },
  {
   "cell_type": "markdown",
   "metadata": {},
   "source": [
    "**Exercício 06**\n",
    "\n",
    "Faça um Programa que peça o raio de um círculo, calcule e mostre sua área."
   ]
  },
  {
   "cell_type": "code",
   "execution_count": 8,
   "metadata": {},
   "outputs": [
    {
     "name": "stdout",
     "output_type": "stream",
     "text": [
      "A área de um círculo de raio 2.0 é igual a 12.57\n"
     ]
    }
   ],
   "source": [
    "import math\n",
    "\n",
    "raio = float(input(\"Informe o raio do círculo: \"))\n",
    "area = math.pi * (raio ** 2)\n",
    "\n",
    "print(f\"A área de um círculo de raio {raio} é igual a {area:5.2f}\")"
   ]
  },
  {
   "cell_type": "markdown",
   "metadata": {},
   "source": [
    "**Exercício 07**\n",
    "\n",
    "Faça um Programa que calcule a área de um quadrado, em seguida mostre o dobro desta área para o usuário."
   ]
  },
  {
   "cell_type": "code",
   "execution_count": 1,
   "metadata": {},
   "outputs": [
    {
     "name": "stdout",
     "output_type": "stream",
     "text": [
      "A área de um quadrado de lado 2.0 é igual a 4.0\n",
      "Seu dobro é igual a 8.0\n"
     ]
    }
   ],
   "source": [
    "lado = float(input(\"Informe o lado do quadrado: \"))\n",
    "area = lado ** 2\n",
    "print(f\"A área de um quadrado de lado {lado} é igual a {area}\")\n",
    "print(f\"Seu dobro é igual a {2 * area}\")\n"
   ]
  },
  {
   "cell_type": "markdown",
   "metadata": {},
   "source": [
    "**Exercício 08**\n",
    "\n",
    "Faça um Programa que pergunte quanto você ganha por hora e o número de horas trabalhadas no mês. Calcule e mostre o total do seu salário no referido mês."
   ]
  },
  {
   "cell_type": "code",
   "execution_count": 3,
   "metadata": {},
   "outputs": [
    {
     "name": "stdout",
     "output_type": "stream",
     "text": [
      "\n",
      "Valor por hora: R$ 70.00\n",
      "Horas trabalhadas no mês: 200.0\n",
      "Salário mensal: R$ 14000.00\n",
      "\n"
     ]
    }
   ],
   "source": [
    "ganho_por_hora = float(input(\"Informe quando ganha por hora trabalhada: \"))\n",
    "horas_trabalhadas = float(input(\"Informe quantas horas trabalha por mês: \"))\n",
    "salario_mensal = ganho_por_hora * horas_trabalhadas\n",
    "print(f\"\"\"\n",
    "Valor por hora: R$ {ganho_por_hora:5.2f}\n",
    "Horas trabalhadas no mês: {horas_trabalhadas}\n",
    "Salário mensal: R$ {salario_mensal:5.2f}\n",
    "\"\"\")"
   ]
  },
  {
   "cell_type": "markdown",
   "metadata": {},
   "source": [
    "**Exercício 09**\n",
    "\n",
    "Faça um Programa que peça a temperatura em graus Fahrenheit, transforme e mostre a temperatura em graus Celsius.\n",
    "\n",
    "$$ C = \\frac{5}{9} \\times (F - 32) $$"
   ]
  },
  {
   "cell_type": "code",
   "execution_count": 4,
   "metadata": {},
   "outputs": [
    {
     "name": "stdout",
     "output_type": "stream",
     "text": [
      "20.0 graus Fahrenheit é equivalente a -6.666666666666667 graus Celsius\n"
     ]
    }
   ],
   "source": [
    "f = float(input(\"Informe a temperatura em graus Fahrenheit: \"))\n",
    "c = (5/9) * (f - 32)\n",
    "print(f\"{f} graus Fahrenheit é equivalente a {c} graus Celsius\")"
   ]
  },
  {
   "cell_type": "markdown",
   "metadata": {},
   "source": [
    "**Exercício 10**\n",
    "\n",
    "Faça um Programa que peça a temperatura em graus Celsius, transforme e mostre em graus Fahrenheit."
   ]
  },
  {
   "cell_type": "code",
   "execution_count": 1,
   "metadata": {},
   "outputs": [
    {
     "name": "stdout",
     "output_type": "stream",
     "text": [
      "25.0 graus Celsius é equivalente a 51.4 graus Fahrenheit\n"
     ]
    }
   ],
   "source": [
    "c = float(input(\"Informe a temperatura em graus Celsius: \"))\n",
    "f = (9 * c + 32) / 5\n",
    "print(f\"{c} graus Celsius é equivalente a {f} graus Fahrenheit\")"
   ]
  },
  {
   "cell_type": "markdown",
   "metadata": {},
   "source": [
    "**Exercício 11**\n",
    "\n",
    "Faça um Programa que peça 2 números inteiros e um número real. Calcule e mostre:\n",
    "\n",
    "a. o produto do dobro do primeiro com metade do segundo.  \n",
    "b. a soma do triplo do primeiro com o terceiro.  \n",
    "c. o terceiro elevado ao cubo."
   ]
  },
  {
   "cell_type": "code",
   "execution_count": 4,
   "metadata": {},
   "outputs": [
    {
     "name": "stdout",
     "output_type": "stream",
     "text": [
      "\n",
      "a) 6.0\n",
      "b) 14.9\n",
      "c) 704.97\n",
      "\n"
     ]
    }
   ],
   "source": [
    "numero_1 = int(input(\"Informe o primeiro número inteiro: \"))\n",
    "numero_2 = int(input(\"Informe o segundo número inteiro: \"))\n",
    "numero_3 = float(input(\"Informe um número real: \"))\n",
    "\n",
    "a = (2 * numero_1) * (numero_2 / 2)\n",
    "b = 3 * numero_1 + numero_3\n",
    "c = numero_3 ** 3\n",
    "\n",
    "print(f\"\"\"\n",
    "a) {a}\n",
    "b) {b}\n",
    "c) {c:5.2f}\n",
    "\"\"\")"
   ]
  },
  {
   "cell_type": "markdown",
   "metadata": {},
   "source": [
    "**Exercício 12**\n",
    "\n",
    "Tendo como dados de entrada a altura de uma pessoa, construa um algoritmo que calcule seu peso ideal, usando a seguinte fórmula: (72.7*altura) - 58"
   ]
  },
  {
   "cell_type": "code",
   "execution_count": 6,
   "metadata": {},
   "outputs": [
    {
     "name": "stdout",
     "output_type": "stream",
     "text": [
      "Peso ideal: 78.67599999999999\n"
     ]
    }
   ],
   "source": [
    "altura = float(input(\"Informe a altura: \"))\n",
    "peso_ideal = 72.7 * altura - 58\n",
    "\n",
    "print(f\"Peso ideal: {peso_ideal}\")"
   ]
  },
  {
   "cell_type": "markdown",
   "metadata": {},
   "source": [
    "**Exercício 13**\n",
    "\n",
    "Tendo como dado de entrada a altura (h) de uma pessoa, construa um algoritmo que calcule seu peso ideal, utilizando as seguintes fórmulas:\n",
    "\n",
    "- Para homens: (72.7*h) - 58\n",
    "- Para mulheres: (62.1*h) - 44.7  "
   ]
  },
  {
   "cell_type": "code",
   "execution_count": 8,
   "metadata": {},
   "outputs": [
    {
     "name": "stdout",
     "output_type": "stream",
     "text": [
      "\n",
      "Altura: 2.0 m\n",
      "Peso Ideal para Homens: 87.4 kg\n",
      "Peso Ideal para Mulheres: 79.5 kg\n",
      "\n"
     ]
    }
   ],
   "source": [
    "h = float(input(\"Informe a altura: \"))\n",
    "\n",
    "peso_ideal_homens = 72.7 * h - 58\n",
    "peso_ideal_mulheres = 62.1 * h - 44.7\n",
    "\n",
    "print(f\"\"\"\n",
    "Altura: {h} m\n",
    "Peso Ideal para Homens: {peso_ideal_homens} kg\n",
    "Peso Ideal para Mulheres: {peso_ideal_mulheres} kg\n",
    "\"\"\")"
   ]
  },
  {
   "cell_type": "markdown",
   "metadata": {},
   "source": [
    "**Exercício 14**\n",
    "\n",
    "João Papo-de-Pescador, homem de bem, comprou um microcomputador para controlar o rendimento diário de seu trabalho. Toda vez que ele traz um peso de peixes maior que o estabelecido pelo regulamento de pesca do estado de São Paulo (50 quilos) deve pagar uma multa de R$ 4,00 por quilo excedente. João precisa que você faça um programa que leia a variável peso (peso de peixes) e calcule o excesso. Gravar na variável excesso a quantidade de quilos além do limite e na variável multa o valor da multa que João deverá pagar. Imprima os dados do programa com as mensagens adequadas."
   ]
  },
  {
   "cell_type": "code",
   "execution_count": 9,
   "metadata": {},
   "outputs": [
    {
     "name": "stdout",
     "output_type": "stream",
     "text": [
      "\n",
      "Excesso: 70.0 kg\n",
      "Multa: R$ 280.00\n",
      "\n"
     ]
    }
   ],
   "source": [
    "peso = float(input(\"Informe o peso dos peixes: \"))\n",
    "peso_limite = 50\n",
    "excesso = peso - peso_limite\n",
    "multa_por_quilo = 4\n",
    "multa = excesso * multa_por_quilo\n",
    "\n",
    "print(f\"\"\"\n",
    "Excesso: {excesso} kg\n",
    "Multa: R$ {multa:5.2f}\n",
    "\"\"\")"
   ]
  },
  {
   "cell_type": "markdown",
   "metadata": {},
   "source": [
    "**Exercício 15**\n",
    "\n",
    "Faça um Programa que pergunte quanto você ganha por hora e o número de horas trabalhadas no mês. Calcule e mostre o total do seu salário no referido mês, sabendo-se que são descontados 11% para o Imposto de Renda, 8% para o INSS e 5% para o sindicato, faça um programa que nos dê:\n",
    "\n",
    "a) salário bruto.  \n",
    "b) quanto pagou ao INSS.  \n",
    "c) quanto pagou ao sindicato.  \n",
    "d) o salário líquido."
   ]
  },
  {
   "cell_type": "code",
   "execution_count": 10,
   "metadata": {},
   "outputs": [
    {
     "name": "stdout",
     "output_type": "stream",
     "text": [
      "\n",
      "Salário Bruto: R$ 11000.00\n",
      "Imposto de Renda: - R$ 1210.00\n",
      "INSS: - R$ 880.00\n",
      "Sindicato: - R$ 550.00\n",
      "---------------------------\n",
      "Salário Líquido: R$ 8360.00\n",
      "\n"
     ]
    }
   ],
   "source": [
    "ganho_por_hora = float(input(\"Informe quanto ganha por hora: \"))\n",
    "horas_trabalhadas = float(input(\"Informe quantas horas trabalha no mês: \"))\n",
    "salario_bruto = ganho_por_hora * horas_trabalhadas\n",
    "ir = salario_bruto * 0.11\n",
    "inss = salario_bruto * 0.08\n",
    "sindicado = salario_bruto * 0.05\n",
    "salario_liquido = salario_bruto - ir - inss - sindicado\n",
    "print(f\"\"\"\n",
    "Salário Bruto: R$ {salario_bruto:5.2f}\n",
    "Imposto de Renda: - R$ {ir:5.2f}\n",
    "INSS: - R$ {inss:5.2f}\n",
    "Sindicato: - R$ {sindicado:5.2f}\n",
    "---------------------------\n",
    "Salário Líquido: R$ {salario_liquido:5.2f}\n",
    "\"\"\")\n"
   ]
  },
  {
   "cell_type": "markdown",
   "metadata": {},
   "source": [
    "**Exercício 16**\n",
    "\n",
    "Faça um programa para uma loja de tintas. O programa deverá pedir o tamanho em metros quadrados da área a ser pintada. Considere que a cobertura da tinta é de 1 litro para cada 3 metros quadrados e que a tinta é vendida em latas de 18 litros, que custam R$ 80,00. Informe ao usuário a quantidades de latas de tinta a serem compradas e o preço total."
   ]
  },
  {
   "cell_type": "markdown",
   "metadata": {},
   "source": [
    "**Exercício 17**\n",
    "\n",
    "Faça um Programa para uma loja de tintas. O programa deverá pedir o tamanho em metros quadrados da área a ser pintada. Considere que a cobertura da tinta é de 1 litro para cada 6 metros quadrados e que a tinta é vendida em latas de 18 litros, que custam R$ 80,00 ou em galões de 3,6 litros, que custam R$ 25,00.\n",
    "\n",
    "Informe ao usuário as quantidades de tinta a serem compradas e os respectivos preços em 3 situações:\n",
    "\n",
    "- comprar apenas latas de 18 litros;\n",
    "- comprar apenas galões de 3,6 litros;\n",
    "- misturar latas e galões, de forma que o desperdício de tinta seja menor. \n",
    "\n",
    "Acrescente 10% de folga e sempre arredonde os valores para cima, isto é, considere latas cheias."
   ]
  },
  {
   "cell_type": "code",
   "execution_count": 1,
   "metadata": {},
   "outputs": [
    {
     "name": "stdout",
     "output_type": "stream",
     "text": [
      "Você deverá usar 3 latas de 18 litros no valor de R$ 240\n",
      "Você deverá usar 11 galões de 3.6 litros no valor de R$ 275\n",
      "Você deverá usar 2 de latas de 18 litros mais 1 de 3.6 litros, no valor de R$ 185\n"
     ]
    }
   ],
   "source": [
    "import math\n",
    "\n",
    "area_a_ser_pintada = int(input(\"Digite a área em metros quadrados a ser pintada: \")) # área em metros quadrados\n",
    "area_com_folga = area_a_ser_pintada * 1.1\n",
    "litros_por_metro = 6\n",
    "litros_a_serem_usados = area_com_folga / litros_por_metro\n",
    "\n",
    "litros_por_lata = 18\n",
    "numero_de_latas = math.ceil(litros_a_serem_usados / litros_por_lata)\n",
    "preco_da_lata = 80\n",
    "valor_com_apenas_latas = numero_de_latas * preco_da_lata\n",
    "\n",
    "print(f\"Você deverá usar {numero_de_latas} latas de 18 litros no valor de R$ {valor_com_apenas_latas}\")\n",
    "\n",
    "litros_por_galao = 3.6\n",
    "numero_de_galoes = math.ceil(litros_a_serem_usados / litros_por_galao)\n",
    "preco_do_galao = 25\n",
    "valor_com_apenas_galoes = numero_de_galoes * preco_do_galao\n",
    "\n",
    "print(f\"Você deverá usar {numero_de_galoes} galões de 3.6 litros no valor de R$ {valor_com_apenas_galoes}\")\n",
    "\n",
    "\n",
    "# Compra de tinta otimizada por valor\n",
    "numero_de_latas = math.floor(litros_a_serem_usados / litros_por_lata)\n",
    "valor_de_latas = numero_de_latas * preco_da_lata\n",
    "litros_faltantes = litros_a_serem_usados % litros_por_lata\n",
    "numero_de_galoes = math.ceil(litros_faltantes / litros_por_galao)\n",
    "valor_com_galoes = numero_de_galoes * preco_do_galao\n",
    "\n",
    "valor_total = valor_de_latas + valor_com_galoes\n",
    "print(f\"Você deverá usar {numero_de_latas} de latas de 18 litros mais {numero_de_galoes} de 3.6 litros, no valor de R$ {valor_total}\")"
   ]
  },
  {
   "cell_type": "code",
   "execution_count": null,
   "metadata": {},
   "outputs": [],
   "source": []
  }
 ],
 "metadata": {
  "interpreter": {
   "hash": "369f2c481f4da34e4445cda3fffd2e751bd1c4d706f27375911949ba6bb62e1c"
  },
  "kernelspec": {
   "display_name": "Python 3.10.3 64-bit",
   "language": "python",
   "name": "python3"
  },
  "language_info": {
   "codemirror_mode": {
    "name": "ipython",
    "version": 3
   },
   "file_extension": ".py",
   "mimetype": "text/x-python",
   "name": "python",
   "nbconvert_exporter": "python",
   "pygments_lexer": "ipython3",
   "version": "3.10.3"
  },
  "orig_nbformat": 4
 },
 "nbformat": 4,
 "nbformat_minor": 2
}
