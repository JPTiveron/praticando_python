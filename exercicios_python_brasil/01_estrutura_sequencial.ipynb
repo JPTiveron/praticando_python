{
 "cells": [
  {
   "cell_type": "markdown",
   "metadata": {},
   "source": [
    "# 01 - Estrutura Sequencial"
   ]
  },
  {
   "cell_type": "markdown",
   "metadata": {},
   "source": [
    "**Exercício 01**\n",
    "\n",
    "Faça um Programa que mostre a mensagem \"Alo mundo\" na tela."
   ]
  },
  {
   "cell_type": "code",
   "execution_count": 1,
   "metadata": {},
   "outputs": [
    {
     "name": "stdout",
     "output_type": "stream",
     "text": [
      "Alô Mundo!!\n"
     ]
    }
   ],
   "source": [
    "print(\"Alô Mundo!!\")"
   ]
  },
  {
   "cell_type": "markdown",
   "metadata": {},
   "source": [
    "**Exercício 02**\n",
    "\n",
    "Faça um Programa que peça um número e então mostre a mensagem: O número informado foi [número]."
   ]
  },
  {
   "cell_type": "code",
   "execution_count": 2,
   "metadata": {},
   "outputs": [
    {
     "name": "stdout",
     "output_type": "stream",
     "text": [
      "O número informado foi 5.0\n"
     ]
    }
   ],
   "source": [
    "numero = float(input(\"Informe um número: \"))\n",
    "print(f\"O número informado foi {numero}\")"
   ]
  },
  {
   "cell_type": "markdown",
   "metadata": {},
   "source": [
    "**Exercício 03**\n",
    "\n",
    "Faça um Programa que peça dois números e imprima a soma."
   ]
  },
  {
   "cell_type": "code",
   "execution_count": 3,
   "metadata": {},
   "outputs": [
    {
     "name": "stdout",
     "output_type": "stream",
     "text": [
      "10.0 + 20.0 = 30.0\n"
     ]
    }
   ],
   "source": [
    "numero_1 = float(input(\"Informe o primeiro número: \"))\n",
    "numero_2 = float(input(\"Informe o segundo número: \"))\n",
    "soma = numero_1 + numero_2\n",
    "\n",
    "print(f\"{numero_1} + {numero_2} = {soma}\")"
   ]
  },
  {
   "cell_type": "markdown",
   "metadata": {},
   "source": [
    "**Exercício 04**\n",
    "\n",
    "Faça um Programa que peça as 4 notas bimestrais e mostre a média."
   ]
  },
  {
   "cell_type": "code",
   "execution_count": 4,
   "metadata": {},
   "outputs": [
    {
     "name": "stdout",
     "output_type": "stream",
     "text": [
      "Média: 9.75\n"
     ]
    }
   ],
   "source": [
    "nota_1 = float(input(\"Informe a nota N1: \"))\n",
    "nota_2 = float(input(\"Informe a nota N2: \"))\n",
    "nota_3 = float(input(\"Informe a nota N3: \"))\n",
    "nota_4 = float(input(\"Informe a nota N4: \"))\n",
    "\n",
    "media = (nota_1 + nota_2 + nota_3 + nota_4) / 4\n",
    "\n",
    "print(f\"Média: {media}\")"
   ]
  },
  {
   "cell_type": "markdown",
   "metadata": {},
   "source": [
    "**Exercício 05**\n",
    "\n",
    "Faça um Programa que converta metros para centímetros."
   ]
  },
  {
   "cell_type": "code",
   "execution_count": 5,
   "metadata": {},
   "outputs": [
    {
     "name": "stdout",
     "output_type": "stream",
     "text": [
      "2.0 metros é equivalente a 200.0 centimetros.\n"
     ]
    }
   ],
   "source": [
    "metros = float(input(\"Informe o valor em metros: \"))\n",
    "centimetros = metros * 100\n",
    "print(f\"{metros} metros é equivalente a {centimetros} centimetros.\")"
   ]
  },
  {
   "cell_type": "markdown",
   "metadata": {},
   "source": [
    "**Exercício 06**\n",
    "\n",
    "Faça um Programa que peça o raio de um círculo, calcule e mostre sua área."
   ]
  },
  {
   "cell_type": "code",
   "execution_count": 8,
   "metadata": {},
   "outputs": [
    {
     "name": "stdout",
     "output_type": "stream",
     "text": [
      "A área de um círculo de raio 2.0 é igual a 12.57\n"
     ]
    }
   ],
   "source": [
    "import math\n",
    "\n",
    "raio = float(input(\"Informe o raio do círculo: \"))\n",
    "area = math.pi * (raio ** 2)\n",
    "\n",
    "print(f\"A área de um círculo de raio {raio} é igual a {area:5.2f}\")"
   ]
  },
  {
   "cell_type": "markdown",
   "metadata": {},
   "source": [
    "**Exercício 07**\n",
    "\n",
    "Faça um Programa que calcule a área de um quadrado, em seguida mostre o dobro desta área para o usuário."
   ]
  },
  {
   "cell_type": "code",
   "execution_count": 1,
   "metadata": {},
   "outputs": [
    {
     "name": "stdout",
     "output_type": "stream",
     "text": [
      "A área de um quadrado de lado 2.0 é igual a 4.0\n",
      "Seu dobro é igual a 8.0\n"
     ]
    }
   ],
   "source": [
    "lado = float(input(\"Informe o lado do quadrado: \"))\n",
    "area = lado ** 2\n",
    "print(f\"A área de um quadrado de lado {lado} é igual a {area}\")\n",
    "print(f\"Seu dobro é igual a {2 * area}\")\n"
   ]
  },
  {
   "cell_type": "markdown",
   "metadata": {},
   "source": [
    "**Exercício 08**\n",
    "\n",
    "Faça um Programa que pergunte quanto você ganha por hora e o número de horas trabalhadas no mês. Calcule e mostre o total do seu salário no referido mês."
   ]
  },
  {
   "cell_type": "code",
   "execution_count": 3,
   "metadata": {},
   "outputs": [
    {
     "name": "stdout",
     "output_type": "stream",
     "text": [
      "\n",
      "Valor por hora: R$ 70.00\n",
      "Horas trabalhadas no mês: 200.0\n",
      "Salário mensal: R$ 14000.00\n",
      "\n"
     ]
    }
   ],
   "source": [
    "ganho_por_hora = float(input(\"Informe quando ganha por hora trabalhada: \"))\n",
    "horas_trabalhadas = float(input(\"Informe quantas horas trabalha por mês: \"))\n",
    "salario_mensal = ganho_por_hora * horas_trabalhadas\n",
    "print(f\"\"\"\n",
    "Valor por hora: R$ {ganho_por_hora:5.2f}\n",
    "Horas trabalhadas no mês: {horas_trabalhadas}\n",
    "Salário mensal: R$ {salario_mensal:5.2f}\n",
    "\"\"\")"
   ]
  },
  {
   "cell_type": "markdown",
   "metadata": {},
   "source": [
    "**Exercício 09**\n",
    "\n",
    "Faça um Programa que peça a temperatura em graus Fahrenheit, transforme e mostre a temperatura em graus Celsius.\n",
    "\n",
    "$$ C = \\frac{5}{9} \\times (F - 32) $$"
   ]
  },
  {
   "cell_type": "code",
   "execution_count": 4,
   "metadata": {},
   "outputs": [
    {
     "name": "stdout",
     "output_type": "stream",
     "text": [
      "20.0 graus Fahrenheit é equivalente a -6.666666666666667 graus Celsius\n"
     ]
    }
   ],
   "source": [
    "f = float(input(\"Informe a temperatura em graus Fahrenheit: \"))\n",
    "c = (5/9) * (f - 32)\n",
    "print(f\"{f} graus Fahrenheit é equivalente a {c} graus Celsius\")"
   ]
  },
  {
   "cell_type": "markdown",
   "metadata": {},
   "source": [
    "**Exercício 10**\n",
    "\n",
    "Faça um Programa que peça a temperatura em graus Celsius, transforme e mostre em graus Fahrenheit."
   ]
  },
  {
   "cell_type": "code",
   "execution_count": 1,
   "metadata": {},
   "outputs": [
    {
     "name": "stdout",
     "output_type": "stream",
     "text": [
      "25.0 graus Celsius é equivalente a 51.4 graus Fahrenheit\n"
     ]
    }
   ],
   "source": [
    "c = float(input(\"Informe a temperatura em graus Celsius: \"))\n",
    "f = (9 * c + 32) / 5\n",
    "print(f\"{c} graus Celsius é equivalente a {f} graus Fahrenheit\")"
   ]
  },
  {
   "cell_type": "markdown",
   "metadata": {},
   "source": [
    "**Exercício 11**\n",
    "\n",
    "Faça um Programa que peça 2 números inteiros e um número real. Calcule e mostre:\n",
    "\n",
    "a. o produto do dobro do primeiro com metade do segundo.  \n",
    "b. a soma do triplo do primeiro com o terceiro.  \n",
    "c. o terceiro elevado ao cubo."
   ]
  },
  {
   "cell_type": "code",
   "execution_count": 4,
   "metadata": {},
   "outputs": [
    {
     "name": "stdout",
     "output_type": "stream",
     "text": [
      "\n",
      "a) 6.0\n",
      "b) 14.9\n",
      "c) 704.97\n",
      "\n"
     ]
    }
   ],
   "source": [
    "numero_1 = int(input(\"Informe o primeiro número inteiro: \"))\n",
    "numero_2 = int(input(\"Informe o segundo número inteiro: \"))\n",
    "numero_3 = float(input(\"Informe um número real: \"))\n",
    "\n",
    "a = (2 * numero_1) * (numero_2 / 2)\n",
    "b = 3 * numero_1 + numero_3\n",
    "c = numero_3 ** 3\n",
    "\n",
    "print(f\"\"\"\n",
    "a) {a}\n",
    "b) {b}\n",
    "c) {c:5.2f}\n",
    "\"\"\")"
   ]
  },
  {
   "cell_type": "markdown",
   "metadata": {},
   "source": [
    "**Exercício 12**\n",
    "\n",
    "Tendo como dados de entrada a altura de uma pessoa, construa um algoritmo que calcule seu peso ideal, usando a seguinte fórmula: (72.7*altura) - 58"
   ]
  },
  {
   "cell_type": "code",
   "execution_count": 6,
   "metadata": {},
   "outputs": [
    {
     "name": "stdout",
     "output_type": "stream",
     "text": [
      "Peso ideal: 78.67599999999999\n"
     ]
    }
   ],
   "source": [
    "altura = float(input(\"Informe a altura: \"))\n",
    "peso_ideal = 72.7 * altura - 58\n",
    "\n",
    "print(f\"Peso ideal: {peso_ideal}\")"
   ]
  },
  {
   "cell_type": "code",
   "execution_count": null,
   "metadata": {},
   "outputs": [],
   "source": []
  }
 ],
 "metadata": {
  "interpreter": {
   "hash": "369f2c481f4da34e4445cda3fffd2e751bd1c4d706f27375911949ba6bb62e1c"
  },
  "kernelspec": {
   "display_name": "Python 3.10.3 64-bit",
   "language": "python",
   "name": "python3"
  },
  "language_info": {
   "codemirror_mode": {
    "name": "ipython",
    "version": 3
   },
   "file_extension": ".py",
   "mimetype": "text/x-python",
   "name": "python",
   "nbconvert_exporter": "python",
   "pygments_lexer": "ipython3",
   "version": "3.10.3"
  },
  "orig_nbformat": 4
 },
 "nbformat": 4,
 "nbformat_minor": 2
}
