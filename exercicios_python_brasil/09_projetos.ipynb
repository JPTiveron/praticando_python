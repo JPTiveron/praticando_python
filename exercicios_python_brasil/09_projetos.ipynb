{
 "cells": [
  {
   "cell_type": "markdown",
   "metadata": {},
   "source": [
    "# 09 - Projetos"
   ]
  },
  {
   "cell_type": "markdown",
   "metadata": {},
   "source": [
    "**Exercício 01**\n",
    "\n",
    "**Controle de cotas de disco** A ACME Inc., uma organização com mais de 1500 funcionários, está tendo problemas de espaço em disco no seu servidor de arquivos. Para tentar resolver este problema, o Administrador de Rede precisa saber qual o espaço em disco ocupado pelas contas dos usuários, e identificar os usuários com maior espaço ocupado. Através de um aplicativo baixado da Internet, ele conseguiu gerar o seguinte arquivo, chamado usuarios.txt:\n",
    "\n",
    "```\n",
    "alexandre       456123789\n",
    "anderson        1245698456\n",
    "antonio         123456456\n",
    "carlos          91257581\n",
    "cesar           987458\n",
    "rosemary        789456125\n",
    "```\n",
    "\n",
    "Neste arquivo, o primeiro campo corresponde ao login do usuário e o segundo ao espaço em disco ocupado pelo seu diretório home. A partir deste arquivo, você deve criar um programa que gere um relatório, chamado relatório.txt, no seguinte formato:\n",
    "\n",
    "```\n",
    "ACME Inc.           Uso do espaço em disco pelos usuários\n",
    "------------------------------------------------------------------------\n",
    "Nr.  Usuário        Espaço utilizado     % do uso\n",
    "\n",
    "1    alexandre       434,99 MB            16,85%\n",
    "2    anderson       1187,99 MB            46,02%\n",
    "3    antonio         117,73 MB             4,56%\n",
    "4    carlos           87,03 MB             3,37%\n",
    "5    cesar             0,94 MB             0,04%\n",
    "6    rosemary        752,88 MB            29,16%\n",
    "```\n",
    "\n",
    "Espaço total ocupado: 2581,57 MB\n",
    "Espaço médio ocupado: 430,26 MB\n",
    "\n",
    "O arquivo de entrada deve ser lido uma única vez, e os dados armazenados em memória, caso sejam necessários, de forma a agilizar a execução do programa. A conversão da espaço ocupado em disco, de bytes para megabytes deverá ser feita através de uma função separada, que será chamada pelo programa principal. O cálculo do percentual de uso também deverá ser feito através de uma função, que será chamada pelo programa principal.\n",
    "\n",
    "**Recursos adicionais:** opcionalmente, desenvolva as seguintes funcionalidades:\n",
    "\n",
    "- Ordenar os usuários pelo percentual de espaço ocupado;\n",
    "- Mostrar apenas os n primeiros em uso, definido pelo usuário;\n",
    "- Gerar a saída numa página html;\n",
    "- Criar o programa que lê as pastas e gera o arquivo inicial;"
   ]
  },
  {
   "cell_type": "code",
   "execution_count": 3,
   "metadata": {},
   "outputs": [],
   "source": [
    "lista_de_dados = []\n",
    "\n",
    "def transformar_em_megabytes(tamanho_em_bytes:str)->float:\n",
    "    return int(tamanho_em_bytes) / (2 ** 10) ** 2\n",
    "\n",
    "\n",
    "with open('sample_data/usuarios.txt', 'r') as arquivo:\n",
    "    for linha in arquivo:\n",
    "        usuario = linha[:15]\n",
    "        tamanho_em_disco = transformar_em_megabytes(linha[16:])\n",
    "        lista_de_dados.append((tamanho_em_disco, usuario))\n",
    "\n",
    "cabecalho = '''\n",
    "ACME Inc.               Uso do espaço em disco pelos usuários\n",
    "------------------------------------------------------------------------\n",
    "Nr.  Usuário        Espaço utilizado     % do uso\n",
    "'''\n",
    "\n",
    "n = int(input('Digite o número de usuários a serem exibidos: '))\n",
    "lista_de_dados.sort(reverse=True)\n",
    "lista_de_dados = lista_de_dados[:n]\n",
    "\n",
    "\n",
    "with open('sample_data/relatorio.txt', 'w') as arquivo:\n",
    "    tamanho_total_consumido = sum([tamanho for tamanho,_ in lista_de_dados])\n",
    "    media = tamanho_total_consumido / len(lista_de_dados)\n",
    "    arquivo.writelines(cabecalho)\n",
    "    for indice, dados in enumerate(lista_de_dados, start=1):\n",
    "        tamanho_em_disco, usuario = dados\n",
    "        arquivo.writelines(\n",
    "            f'{indice:<4} {usuario} {tamanho_em_disco:9.2f} MB          '\n",
    "            f'{tamanho_em_disco / tamanho_total_consumido:>6.2%}\\n')\n",
    "    \n",
    "    arquivo.writelines('\\n')\n",
    "    arquivo.writelines(f'Espaço total ocupado: {tamanho_total_consumido:.2f} MB\\n')\n",
    "    arquivo.writelines(f'Espaço médio ocupado: {media:.2f} MB')"
   ]
  },
  {
   "cell_type": "markdown",
   "metadata": {},
   "source": [
    "**Exercício 02**\n",
    "\n",
    "**Analisador de logs do Apache.** Desenvolva um analisador de log do Apache que mostre quais as strings de pesquisa do google que mais levam internautas para o site da sua organização."
   ]
  },
  {
   "cell_type": "markdown",
   "metadata": {},
   "source": [
    "**Exercício 03**\n",
    "\n",
    "**Analisador de logs do Squid: sites bloqueados.** Desenvolva um analisador de log do Squid que mostre quais os sites mais bloqueados em uma organização."
   ]
  }
 ],
 "metadata": {
  "interpreter": {
   "hash": "369f2c481f4da34e4445cda3fffd2e751bd1c4d706f27375911949ba6bb62e1c"
  },
  "kernelspec": {
   "display_name": "Python 3.10.3 64-bit",
   "language": "python",
   "name": "python3"
  },
  "language_info": {
   "codemirror_mode": {
    "name": "ipython",
    "version": 3
   },
   "file_extension": ".py",
   "mimetype": "text/x-python",
   "name": "python",
   "nbconvert_exporter": "python",
   "pygments_lexer": "ipython3",
   "version": "3.10.3"
  },
  "orig_nbformat": 4
 },
 "nbformat": 4,
 "nbformat_minor": 2
}
