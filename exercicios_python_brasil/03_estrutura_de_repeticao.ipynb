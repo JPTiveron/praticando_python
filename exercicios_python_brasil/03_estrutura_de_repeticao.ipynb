{
 "cells": [
  {
   "cell_type": "markdown",
   "metadata": {},
   "source": [
    "# 03 - Estrutura de Repetição"
   ]
  },
  {
   "cell_type": "markdown",
   "metadata": {},
   "source": [
    "**Exercício 01**\n",
    "\n",
    "Faça um programa que peça uma nota, entre zero e dez. Mostre uma mensagem caso o valor seja inválido e continue pedindo até que o usuário informe um valor válido."
   ]
  },
  {
   "cell_type": "code",
   "execution_count": 6,
   "metadata": {},
   "outputs": [
    {
     "name": "stdout",
     "output_type": "stream",
     "text": [
      "Deve ser fornecido um valor inteiro\n",
      "Deve ser fornecido um valor inteiro\n",
      "O número deve estar entre 0 e 10.\n",
      "Número informado é: 6\n"
     ]
    }
   ],
   "source": [
    "# while True:\n",
    "#     nota = float(input(\"Informe uma nota entre 0 e 10: \"))\n",
    "#     if nota <= 0 or nota > 10:\n",
    "#         continue\n",
    "#     else:\n",
    "#         print(f'Nota informada: {nota}')\n",
    "#         break\n",
    "\n",
    "# Solução 2\n",
    "while True:\n",
    "    try:\n",
    "        numero = int(input('Digite um valor de 0 a 10: '))\n",
    "    except ValueError:\n",
    "        print('Deve ser fornecido um valor inteiro')\n",
    "    else:\n",
    "        if 0 <= numero <= 10: \n",
    "            print(f'Número informado é: {numero}')\n",
    "            break\n",
    "        else:\n",
    "            print('O número deve estar entre 0 e 10.')\n",
    "\n"
   ]
  },
  {
   "cell_type": "markdown",
   "metadata": {},
   "source": [
    "**Exercício 02**\n",
    "\n",
    "Faça um programa que leia um nome de usuário e a sua senha e não aceite a senha igual ao nome do usuário, mostrando uma mensagem de erro e voltando a pedir as informações."
   ]
  },
  {
   "cell_type": "code",
   "execution_count": 1,
   "metadata": {},
   "outputs": [
    {
     "name": "stdout",
     "output_type": "stream",
     "text": [
      "Usuário não pode ser igual a senha\n"
     ]
    }
   ],
   "source": [
    "while True:\n",
    "    usuario = input('Nome de usuário: ')\n",
    "    senha = input('Senha: ')\n",
    "    if usuario == senha:\n",
    "        print(\"Usuário não pode ser igual a senha\")\n",
    "    else:\n",
    "        print('Bem-vindo!')\n",
    "        break\n"
   ]
  },
  {
   "cell_type": "markdown",
   "metadata": {},
   "source": [
    "**Exercício 03**\n",
    "\n",
    "Faça um programa que leia e valide as seguintes informações:\n",
    "\n",
    "a) Nome: maior que 3 caracteres;  \n",
    "b) Idade: entre 0 e 150;  \n",
    "c) Salário: maior que zero;  \n",
    "d) Sexo: 'f' ou 'm';  \n",
    "e) Estado Civil: 's', 'c', 'v', 'd';"
   ]
  },
  {
   "cell_type": "code",
   "execution_count": 7,
   "metadata": {},
   "outputs": [
    {
     "name": "stdout",
     "output_type": "stream",
     "text": [
      "Nome deve ter mais que 3 caracteres.\n",
      "Nome: joao\n",
      "Idade: 35\n",
      "Salário: 10000.0\n",
      "Sexo: M\n",
      "Estado Civil: V\n"
     ]
    }
   ],
   "source": [
    "while True:\n",
    "    nome = input(\"Informe o nome: \")\n",
    "    if len(nome) <= 3:\n",
    "        print('Nome deve ter mais que 3 caracteres.')\n",
    "    else:\n",
    "        print(f'Nome: {nome}')\n",
    "        break\n",
    "\n",
    "while True:\n",
    "    try:\n",
    "        idade = int(input(\"Informe a idade: \"))\n",
    "    except ValueError:\n",
    "        print('Deve ser fornecido um valor inteiro')\n",
    "    else:\n",
    "        if 0 <= idade <= 150: \n",
    "            print(f'Idade: {idade}')\n",
    "            break\n",
    "        else:\n",
    "            print('A idade deve estar entre 0 e 150.')\n",
    "\n",
    "while True:\n",
    "    try:\n",
    "        salario = float(input('Informe o salário: '))\n",
    "    except ValueError:\n",
    "        print('Deve ser fornecido um valor real.')\n",
    "    else:\n",
    "        if salario > 0:\n",
    "            print(f'Salário: {salario}')\n",
    "            break\n",
    "        else:\n",
    "            print('O salário deve ser maior que 0.')\n",
    "        \n",
    "while True:\n",
    "    sexo = input('Informe o sexo (M ou F): ').upper()\n",
    "    if sexo == 'M' or 'F':\n",
    "        print(f'Sexo: {sexo}')\n",
    "        break\n",
    "    else:\n",
    "        print('Informe o sexo como M ou F.')\n",
    "    \n",
    "while True:\n",
    "    estado_civil = input('Informe o estado civil (S, C, V, D): ').upper()\n",
    "    if estado_civil not in ['S', 'C', 'V', 'D']:\n",
    "        print('Estado civil deve ser S, C, V ou D')\n",
    "    else:\n",
    "        print(f'Estado Civil: {estado_civil}')\n",
    "        break\n"
   ]
  },
  {
   "cell_type": "markdown",
   "metadata": {},
   "source": [
    "**Exercício 04**\n",
    "\n",
    "Supondo que a população de um país A seja da ordem de 80.000 habitantes com uma taxa anual de crescimento de 3% e que a população de B seja 200.000 habitantes com uma taxa de crescimento de 1.5%. Faça um programa que calcule e escreva o número de anos necessários para que a população do país A ultrapasse ou iguale a população do país B, mantidas as taxas de crescimento."
   ]
  },
  {
   "cell_type": "code",
   "execution_count": 2,
   "metadata": {},
   "outputs": [
    {
     "name": "stdout",
     "output_type": "stream",
     "text": [
      "\n",
      "População A: 514954\n",
      "População B: 510914\n",
      "Anos: 63\n",
      "\n"
     ]
    }
   ],
   "source": [
    "populacao_a = 80_000\n",
    "populacao_b = 200_000\n",
    "taxa_a = 3 / 100\n",
    "taxa_b = 1.5 / 100\n",
    "anos = 0\n",
    "\n",
    "while populacao_b > populacao_a:\n",
    "    anos += 1\n",
    "    populacao_a = int(populacao_a + populacao_a * taxa_a)\n",
    "    populacao_b = int(populacao_b + populacao_b * taxa_b)\n",
    "\n",
    "print(f'''\n",
    "População A: {populacao_a}\n",
    "População B: {populacao_b}\n",
    "Anos: {anos}\n",
    "''')\n"
   ]
  },
  {
   "cell_type": "markdown",
   "metadata": {},
   "source": [
    "**Exercício 05**\n",
    "\n",
    "Altere o programa anterior permitindo ao usuário informar as populações e as taxas de crescimento iniciais. Valide a entrada e permita repetir a operação."
   ]
  },
  {
   "cell_type": "code",
   "execution_count": 8,
   "metadata": {},
   "outputs": [
    {
     "name": "stdout",
     "output_type": "stream",
     "text": [
      "\n",
      "    População A: 515033.1028059676\n",
      "    População B: 510964.4169622198\n",
      "    Anos: 63\n",
      "    \n",
      "Digite 0 sair ou qualquer outra tecla para continuar\n",
      "Informe um valor inteiro.\n",
      "Informe um valor inteiro.\n",
      "\n",
      "    População A: 1275774.2886835756\n",
      "    População B: 1272932.9231707724\n",
      "    Anos: 186\n",
      "    \n",
      "Digite 0 sair ou qualquer outra tecla para continuar\n"
     ]
    },
    {
     "ename": "KeyboardInterrupt",
     "evalue": "",
     "output_type": "error",
     "traceback": [
      "\u001b[1;31m---------------------------------------------------------------------------\u001b[0m",
      "\u001b[1;31mKeyboardInterrupt\u001b[0m                         Traceback (most recent call last)",
      "\u001b[1;32mc:\\projetos_python\\praticando_python\\exercicios_python_brasil\\03_estrutura_de_repeticao.ipynb Cell 11'\u001b[0m in \u001b[0;36m<cell line: 1>\u001b[1;34m()\u001b[0m\n\u001b[0;32m     <a href='vscode-notebook-cell:/c%3A/projetos_python/praticando_python/exercicios_python_brasil/03_estrutura_de_repeticao.ipynb#ch0000010?line=27'>28</a>\u001b[0m         \u001b[39mprint\u001b[39m(\u001b[39m'\u001b[39m\u001b[39mInforme um valor numérico real.\u001b[39m\u001b[39m'\u001b[39m)\n\u001b[0;32m     <a href='vscode-notebook-cell:/c%3A/projetos_python/praticando_python/exercicios_python_brasil/03_estrutura_de_repeticao.ipynb#ch0000010?line=29'>30</a>\u001b[0m anos \u001b[39m=\u001b[39m \u001b[39m0\u001b[39m\n\u001b[1;32m---> <a href='vscode-notebook-cell:/c%3A/projetos_python/praticando_python/exercicios_python_brasil/03_estrutura_de_repeticao.ipynb#ch0000010?line=31'>32</a>\u001b[0m \u001b[39mwhile\u001b[39;00m populacao_a \u001b[39m<\u001b[39;49m\u001b[39m=\u001b[39;49m populacao_b:\n\u001b[0;32m     <a href='vscode-notebook-cell:/c%3A/projetos_python/praticando_python/exercicios_python_brasil/03_estrutura_de_repeticao.ipynb#ch0000010?line=32'>33</a>\u001b[0m     anos \u001b[39m+\u001b[39m\u001b[39m=\u001b[39m \u001b[39m1\u001b[39m\n\u001b[0;32m     <a href='vscode-notebook-cell:/c%3A/projetos_python/praticando_python/exercicios_python_brasil/03_estrutura_de_repeticao.ipynb#ch0000010?line=33'>34</a>\u001b[0m     populacao_a \u001b[39m*\u001b[39m\u001b[39m=\u001b[39m taxa_de_crescimento_de_a\n",
      "\u001b[1;31mKeyboardInterrupt\u001b[0m: "
     ]
    }
   ],
   "source": [
    "while True:    \n",
    "    while True:\n",
    "        try:\n",
    "            populacao_a = int(input(\"Informe a população A: \"))\n",
    "            break\n",
    "        except ValueError:\n",
    "            print('Informe um valor inteiro.')\n",
    "\n",
    "    while True:\n",
    "        try:\n",
    "            taxa_de_crescimento_de_a = float(input(\"Informe a taxa de crescimento de A (2 para 2%): \")) / 100 + 1\n",
    "            break\n",
    "        except ValueError:\n",
    "            print('Informe um valor numérico real.')\n",
    "\n",
    "    while True:\n",
    "        try:\n",
    "            populacao_b = int(input(\"Informe a população B: \"))\n",
    "            break\n",
    "        except ValueError:\n",
    "            print('Informe um valor inteiro.')\n",
    "\n",
    "    while True:\n",
    "        try:\n",
    "            taxa_de_crescimento_de_b = float(input(\"Informe a taxa de crescimento de B (2 para 2%): \")) / 100 + 1\n",
    "            break\n",
    "        except ValueError:\n",
    "            print('Informe um valor numérico real.')\n",
    "\n",
    "    anos = 0\n",
    "\n",
    "    while populacao_a <= populacao_b:\n",
    "        anos += 1\n",
    "        populacao_a *= taxa_de_crescimento_de_a\n",
    "        populacao_b *= taxa_de_crescimento_de_b\n",
    "\n",
    "    print(f'''\n",
    "    População A: {populacao_a}\n",
    "    População B: {populacao_b}\n",
    "    Anos: {anos}\n",
    "    ''')\n",
    "\n",
    "    print('Digite 0 sair ou qualquer outra tecla para continuar')\n",
    "    escolha = input()\n",
    "    if escolha == \"0\":\n",
    "        break"
   ]
  },
  {
   "cell_type": "markdown",
   "metadata": {},
   "source": [
    "**Exercício 06**\n",
    "\n",
    "Faça um programa que imprima na tela os números de 1 a 20, um abaixo do outro. Depois modifique o programa para que ele mostre os números um ao lado do outro."
   ]
  },
  {
   "cell_type": "code",
   "execution_count": 10,
   "metadata": {},
   "outputs": [
    {
     "name": "stdout",
     "output_type": "stream",
     "text": [
      "1\n",
      "2\n",
      "3\n",
      "4\n",
      "5\n",
      "6\n",
      "7\n",
      "8\n",
      "9\n",
      "10\n",
      "11\n",
      "12\n",
      "13\n",
      "14\n",
      "15\n",
      "16\n",
      "17\n",
      "18\n",
      "19\n",
      "20\n",
      "1 2 3 4 5 6 7 8 9 10 11 12 13 14 15 16 17 18 19 20 "
     ]
    }
   ],
   "source": [
    "for numero in range(1, 21):\n",
    "    print(numero)\n",
    "\n",
    "for numero in range(1, 21):\n",
    "    print(numero, end=' ')"
   ]
  },
  {
   "cell_type": "markdown",
   "metadata": {},
   "source": [
    "**Exercício 07**\n",
    "\n",
    "Faça um programa que leia 5 números e informe o maior número."
   ]
  },
  {
   "cell_type": "code",
   "execution_count": 12,
   "metadata": {},
   "outputs": [
    {
     "name": "stdout",
     "output_type": "stream",
     "text": [
      "Maior: 30\n"
     ]
    }
   ],
   "source": [
    "# numero_1 = 20\n",
    "# numero_2 = 30\n",
    "# numero_3 = 10\n",
    "# numero_4 = 0\n",
    "# numero_5 = 2\n",
    "\n",
    "# numeros = [numero_1, numero_2, numero_3, numero_4, numero_5]\n",
    "# maior = numeros[0]\n",
    "\n",
    "# for numero in numeros:\n",
    "#     if numero > maior:\n",
    "#         maior = numero\n",
    "\n",
    "# print(f'Maior: {maior}')\n",
    "\n",
    "\n",
    "# Solução 2\n",
    "\n",
    "# _ significa que não estamos usando aquela variável\n",
    "maximo = float(input('Digite um número: '))\n",
    "for _ in range(4):\n",
    "    maximo = max(maximo, float(input('Digite um número: ')))\n",
    "    print(f'Número máximo encontrado até agora: {maximo}')\n",
    "\n"
   ]
  },
  {
   "cell_type": "markdown",
   "metadata": {},
   "source": [
    "**Exercício 08**\n",
    "\n",
    "Faça um programa que leia 5 números e informe a soma e a média dos números."
   ]
  },
  {
   "cell_type": "markdown",
   "metadata": {},
   "source": [
    "**Exercício 09**\n",
    "\n",
    "Faça um programa que imprima na tela apenas os números ímpares entre 1 e 50."
   ]
  },
  {
   "cell_type": "markdown",
   "metadata": {},
   "source": [
    "**Exercício 10**\n",
    "\n",
    "Faça um programa que receba dois números inteiros e gere os números inteiros que estão no intervalo compreendido por eles."
   ]
  },
  {
   "cell_type": "markdown",
   "metadata": {},
   "source": [
    "**Exercício 11**\n",
    "\n",
    "Altere o programa anterior para mostrar no final a soma dos números."
   ]
  },
  {
   "cell_type": "markdown",
   "metadata": {},
   "source": [
    "**Exercício 12**\n",
    "\n",
    "Desenvolva um gerador de tabuada, capaz de gerar a tabuada de qualquer número inteiro entre 1 a 10. O usuário deve informar de qual numero ele deseja ver a tabuada. A saída deve ser conforme o exemplo abaixo:\n",
    "\n",
    "Tabuada de 5:  \n",
    "5 X 1 = 5  \n",
    "5 X 2 = 10  \n",
    "...  \n",
    "5 X 10 = 50"
   ]
  },
  {
   "cell_type": "markdown",
   "metadata": {},
   "source": [
    "**Exercício 13**\n",
    "\n",
    "Faça um programa que peça dois números, base e expoente, calcule e mostre o primeiro número elevado ao segundo número. Não utilize a função de potência da linguagem."
   ]
  },
  {
   "cell_type": "markdown",
   "metadata": {},
   "source": [
    "**Exercício 14**\n",
    "\n",
    "Faça um programa que peça 10 números inteiros, calcule e mostre a quantidade de números pares e a quantidade de números impares."
   ]
  },
  {
   "cell_type": "markdown",
   "metadata": {},
   "source": [
    "**Exercício 15**\n",
    "\n",
    "A série de Fibonacci é formada pela seqüência 1, 1, 2, 3, 5, 8, 13, 21, 34, 55,... Faça um programa capaz de gerar a série até o n−ésimo termo."
   ]
  },
  {
   "cell_type": "markdown",
   "metadata": {},
   "source": [
    "**Exercício 16**\n",
    "\n",
    "A série de Fibonacci é formada pela seqüência 0,1,1,2,3,5,8,13,21,34,55,... Faça um programa que gere a série até que o valor seja maior que 500."
   ]
  },
  {
   "cell_type": "markdown",
   "metadata": {},
   "source": [
    "**Exercício 17**\n",
    "\n",
    "Faça um programa que calcule o fatorial de um número inteiro fornecido pelo usuário. Ex.: 5!=5.4.3.2.1=120"
   ]
  },
  {
   "cell_type": "markdown",
   "metadata": {},
   "source": [
    "**Exercício 18**\n",
    "\n",
    "Faça um programa que, dado um conjunto de N números, determine o menor valor, o maior valor e a soma dos valores."
   ]
  },
  {
   "cell_type": "markdown",
   "metadata": {},
   "source": [
    "**Exercício 19**\n",
    "\n",
    "Altere o programa anterior para que ele aceite apenas números entre 0 e 1000."
   ]
  },
  {
   "cell_type": "markdown",
   "metadata": {},
   "source": [
    "**Exercício 20**\n",
    "\n",
    "Altere o programa de cálculo do fatorial, permitindo ao usuário calcular o fatorial várias vezes e limitando o fatorial a números inteiros positivos e menores que 16."
   ]
  },
  {
   "cell_type": "markdown",
   "metadata": {},
   "source": [
    "**Exercício 21**\n",
    "\n",
    "Faça um programa que peça um número inteiro e determine se ele é ou não um número primo. Um número primo é aquele que é divisível somente por ele mesmo e por 1."
   ]
  },
  {
   "cell_type": "markdown",
   "metadata": {},
   "source": [
    "**Exercício 22**\n",
    "\n",
    "Altere o programa de cálculo dos números primos, informando, caso o número não seja primo, por quais número ele é divisível."
   ]
  },
  {
   "cell_type": "markdown",
   "metadata": {},
   "source": [
    "**Exercício 23**\n",
    "\n",
    "Faça um programa que mostre todos os primos entre 1 e N sendo N um número inteiro fornecido pelo usuário. O programa deverá mostrar também o número de divisões que ele executou para encontrar os números primos. Serão avaliados o funcionamento, o estilo e o número de testes (divisões) executados."
   ]
  },
  {
   "cell_type": "markdown",
   "metadata": {},
   "source": [
    "**Exercício 24**\n",
    "\n",
    "Faça um programa que calcule o mostre a média aritmética de N notas."
   ]
  },
  {
   "cell_type": "markdown",
   "metadata": {},
   "source": [
    "**Exercício 25**\n",
    "\n",
    "Faça um programa que peça para n pessoas a sua idade, ao final o programa devera verificar se a média de idade da turma varia entre 0 e 25, 26 e 60 e maior que 60; e então, dizer se a turma é jovem, adulta ou idosa, conforme a média calculada."
   ]
  },
  {
   "cell_type": "markdown",
   "metadata": {},
   "source": [
    "**Exercício 26**\n",
    "\n",
    "Numa eleição existem três candidatos. Faça um programa que peça o número total de eleitores. Peça para cada eleitor votar e ao final mostrar o número de votos de cada candidato."
   ]
  },
  {
   "cell_type": "markdown",
   "metadata": {},
   "source": [
    "**Exercício 27**\n",
    "\n",
    "Faça um programa que calcule o número médio de alunos por turma. Para isto, peça a quantidade de turmas e a quantidade de alunos para cada turma. As turmas não podem ter mais de 40 alunos."
   ]
  },
  {
   "cell_type": "markdown",
   "metadata": {},
   "source": [
    "**Exercício 28**\n",
    "\n",
    "Faça um programa que calcule o valor total investido por um colecionador em sua coleção de CDs e o valor médio gasto em cada um deles. O usuário deverá informar a quantidade de CDs e o valor para em cada um."
   ]
  },
  {
   "cell_type": "markdown",
   "metadata": {},
   "source": [
    "**Exercício 29**\n",
    "\n",
    "O Sr. Manoel Joaquim possui uma grande loja de artigos de R$ 1,99, com cerca de 10 caixas. Para agilizar o cálculo de quanto cada cliente deve pagar ele desenvolveu um tabela que contém o número de itens que o cliente comprou e ao lado o valor da conta. Desta forma a atendente do caixa precisa apenas contar quantos itens o cliente está levando e olhar na tabela de preços. Você foi contratado para desenvolver o programa que monta esta tabela de preços, que conterá os preços de 1 até 50 produtos, conforme o exemplo abaixo:\n",
    "\n",
    "|Lojas Quase Dois|Tabela de preços\n",
    "|---|---|\n",
    "|1|R$ 1,99|\n",
    "|2|R$ 3,98|\n",
    "|...|...|\n",
    "|50|R$ 99,50|"
   ]
  },
  {
   "cell_type": "markdown",
   "metadata": {},
   "source": [
    "**Exercício 30**\n",
    "\n",
    "O Sr. Manoel Joaquim acaba de adquirir uma panificadora e pretende implantar a metodologia da tabelinha, que já é um sucesso na sua loja de 1,99. Você foi contratado para desenvolver o programa que monta a tabela de preços de pães, de 1 até 50 pães, a partir do preço do pão informado pelo usuário, conforme o exemplo abaixo:\n",
    "\n",
    "Preço do pão: R$ 0,18\n",
    "\n",
    "|Panificadora Pão de Ontem|Tabela de preços|\n",
    "|---|---|\n",
    "|1|R$ 0,18|\n",
    "|2|R$ 0,36|\n",
    "|...|...|\n",
    "|50|R$ 9,00|\n"
   ]
  },
  {
   "cell_type": "markdown",
   "metadata": {},
   "source": [
    "**Exercícios 31**\n",
    "\n",
    "O Sr. Manoel Joaquim expandiu seus negócios para além dos negócios de 1,99 e agora possui uma loja de conveniências. Faça um programa que implemente uma caixa registradora rudimentar. O programa deverá receber um número desconhecido de valores referentes aos preços das mercadorias. Um valor zero deve ser informado pelo operador para indicar o final da compra. O programa deve então mostrar o total da compra e perguntar o valor em dinheiro que o cliente forneceu, para então calcular e mostrar o valor do troco. Após esta operação, o programa deverá voltar ao ponto inicial, para registrar a próxima compra. A saída deve ser conforme o exemplo abaixo:\n",
    "\n",
    "Lojas Tabajara  \n",
    "Produto 1: R$ 2.20  \n",
    "Produto 2: R$ 5.80  \n",
    "Produto 3: R$ 0  \n",
    "Total: R$ 9.00  \n",
    "Dinheiro: R$ 20.00  \n",
    "Troco: R$ 11.00  \n",
    "..."
   ]
  },
  {
   "cell_type": "markdown",
   "metadata": {},
   "source": [
    "**Exercícios 32**\n",
    "\n",
    "Faça um programa que calcule o fatorial de um número inteiro fornecido pelo usuário. Ex.: 5!=5.4.3.2.1=120. A saída deve ser conforme o exemplo abaixo:\n",
    "\n",
    "Fatorial de: 5  \n",
    "5! =  5 . 4 . 3 . 2 . 1 = 120\n"
   ]
  },
  {
   "cell_type": "markdown",
   "metadata": {},
   "source": [
    "**Exercícios 33**\n",
    "\n",
    "O Departamento Estadual de Meteorologia lhe contratou para desenvolver um programa que leia as um conjunto indeterminado de temperaturas, e informe ao final a menor e a maior temperaturas informadas, bem como a média das temperaturas."
   ]
  },
  {
   "cell_type": "markdown",
   "metadata": {},
   "source": [
    "**Exercícios 34**\n",
    "\n",
    "Os números primos possuem várias aplicações dentro da Computação, por exemplo na Criptografia. Um número primo é aquele que é divisível apenas por um e por ele mesmo. Faça um programa que peça um número inteiro e determine se ele é ou não um número primo."
   ]
  },
  {
   "cell_type": "markdown",
   "metadata": {},
   "source": [
    "**Exercícios 35**\n",
    "\n",
    "Encontrar números primos é uma tarefa difícil. Faça um programa que gera uma lista dos números primos existentes entre 1 e um número inteiro informado pelo usuário."
   ]
  },
  {
   "cell_type": "markdown",
   "metadata": {},
   "source": [
    "**Exercício 36**\n",
    "\n",
    "Desenvolva um programa que faça a tabuada de um número qualquer inteiro que será digitado pelo usuário, mas a tabuada não deve necessariamente iniciar em 1 e terminar em 10, o valor inicial e final devem ser informados também pelo usuário, conforme exemplo abaixo:\n",
    "\n",
    "Montar a tabuada de: 5  \n",
    "Começar por: 4  \n",
    "Terminar em: 7  \n",
    "\n",
    "Vou montar a tabuada de 5 começando em 4 e terminando em 7:  \n",
    "5 X 4 = 20  \n",
    "5 X 5 = 25  \n",
    "5 X 6 = 30  \n",
    "5 X 7 = 35  \n",
    "\n",
    "Obs: Você deve verificar se o usuário não digitou o final menor que o inicial."
   ]
  },
  {
   "cell_type": "markdown",
   "metadata": {},
   "source": [
    "**Exercício 37**\n",
    "\n",
    "Uma academia deseja fazer um senso entre seus clientes para descobrir o mais alto, o mais baixo, a mais gordo e o mais magro, para isto você deve fazer um programa que pergunte a cada um dos clientes da academia seu código, sua altura e seu peso. O final da digitação de dados deve ser dada quando o usuário digitar 0 (zero) no campo código. Ao encerrar o programa também deve ser informados os códigos e valores do clente mais alto, do mais baixo, do mais gordo e do mais magro, além da média das alturas e dos pesos dos clientes"
   ]
  },
  {
   "cell_type": "markdown",
   "metadata": {},
   "source": [
    "**Exercício 38**\n",
    "\n",
    "Um funcionário de uma empresa recebe aumento salarial anualmente: Sabe-se que:\n",
    "- Esse funcionário foi contratado em 1995, com salário inicial de R$ 1.000,00;\n",
    "- Em 1996 recebeu aumento de 1,5% sobre seu salário inicial;\n",
    "- A partir de 1997 (inclusive), os aumentos salariais sempre correspondem ao dobro do percentual do ano anterior. \n",
    "\n",
    "Faça um programa que determine o salário atual desse funcionário. Após concluir isto, altere o programa permitindo que o usuário digite o salário inicial do funcionário."
   ]
  },
  {
   "cell_type": "markdown",
   "metadata": {},
   "source": [
    "**Exercício 39**\n",
    "\n",
    "Faça um programa que leia dez conjuntos de dois valores, o primeiro representando o número do aluno e o segundo representando a sua altura em centímetros. Encontre o aluno mais alto e o mais baixo. Mostre o número do aluno mais alto e o número do aluno mais baixo, junto com suas alturas."
   ]
  },
  {
   "cell_type": "markdown",
   "metadata": {},
   "source": [
    "**Exercício 40**\n",
    "\n",
    "Foi feita uma estatística em cinco cidades brasileiras para coletar dados sobre acidentes de trânsito. Foram obtidos os seguintes dados:\n",
    "- Código da cidade;\n",
    "- Número de veículos de passeio (em 1999);\n",
    "- Número de acidentes de trânsito com vítimas (em 1999). \n",
    "\n",
    "Deseja-se saber:  \n",
    "a) Qual o maior e menor índice de acidentes de transito e a que cidade pertence;  \n",
    "b) Qual a média de veículos nas cinco cidades juntas;  \n",
    "c) Qual a média de acidentes de trânsito nas cidades com menos de 2.000 veículos de passeio."
   ]
  },
  {
   "cell_type": "markdown",
   "metadata": {},
   "source": [
    "**Exercícios 41**\n",
    "\n",
    "Faça um programa que receba o valor de uma dívida e mostre uma tabela com os seguintes dados: valor da dívida, valor dos juros, quantidade de parcelas e valor da parcela.\n",
    "\n",
    "Os juros e a quantidade de parcelas seguem a tabela abaixo:\n",
    "\n",
    "|Quantidade de Parcelas|% de Juros sobre o valor inicial da dívida|\n",
    "|---|---|\n",
    "|1|0|\n",
    "|3|10|\n",
    "|6|15|\n",
    "|9|20|\n",
    "|12|25|\n",
    "\n",
    "Exemplo de Saída do programa:\n",
    "|Valor da Dívida|Valor dos Juros|Quantidade de Parcelas|Valor da Parcela|\n",
    "|---|---|---|---|\n",
    "|R$ 1.000,00|0|1|R$ 1.000,00|\n",
    "|R$ 1.100,00|100|3|R$ 366,00|\n",
    "|R$ 1.150,00|150|6|R$ 191,67|"
   ]
  },
  {
   "cell_type": "markdown",
   "metadata": {},
   "source": [
    "**Exercício 42**\n",
    "\n",
    "Faça um programa que leia uma quantidade indeterminada de números positivos e conte quantos deles estão nos seguintes intervalos: [0-25], [26-50], [51-75] e [76-100]. A entrada de dados deverá terminar quando for lido um número negativo."
   ]
  },
  {
   "cell_type": "markdown",
   "metadata": {},
   "source": [
    "**Exercício 43**\n",
    "\n",
    "O cardápio de uma lanchonete é o seguinte:\n",
    "\n",
    "|Especificação|Código|Preço|\n",
    "|---|---|---|\n",
    "|Cachorro Quente|100|R$ 1,20|\n",
    "|Bauru Simples|101|R$ 1,30|\n",
    "|Bauru com ovo|102|R$ 1,50|\n",
    "|Hambúrguer|103|R$ 1,20|\n",
    "|Cheeseburguer|104|R$ 1,30|\n",
    "|Refrigerante|105|R$ 1,00|\n",
    "\n",
    "Faça um programa que leia o código dos itens pedidos e as quantidades desejadas. Calcule e mostre o valor a ser pago por item (preço * quantidade) e o total geral do pedido. Considere que o cliente deve informar quando o pedido deve ser encerrado."
   ]
  },
  {
   "cell_type": "markdown",
   "metadata": {},
   "source": [
    "**Exercício 44**\n",
    "\n",
    "Em uma eleição presidencial existem quatro candidatos. Os votos são informados por meio de código. Os códigos utilizados são:\n",
    "\n",
    "1 , 2, 3, 4  - Votos para os respectivos candidatos  \n",
    "(você deve montar a tabela ex: 1 - Jose/ 2- João/etc)  \n",
    "5 - Voto Nulo  \n",
    "6 - Voto em Branco\n",
    "\n",
    "Faça um programa que calcule e mostre:\n",
    "- O total de votos para cada candidato;\n",
    "- O total de votos nulos;\n",
    "- O total de votos em branco;\n",
    "- A percentagem de votos nulos sobre o total de votos;\n",
    "- A percentagem de votos em branco sobre o total de votos. \n",
    "\n",
    "Para finalizar o conjunto de votos tem-se o valor zero."
   ]
  },
  {
   "cell_type": "markdown",
   "metadata": {},
   "source": [
    "**Exercício 45**\n",
    "\n",
    "Desenvolver um programa para verificar a nota do aluno em uma prova com 10 questões, o programa deve perguntar ao aluno a resposta de cada questão e ao final comparar com o gabarito da prova e assim calcular o total de acertos e a nota (atribuir 1 ponto por resposta certa). Após cada aluno utilizar o sistema deve ser feita uma pergunta se outro aluno vai utilizar o sistema. Após todos os alunos terem respondido informar:\n",
    "\n",
    "a) Maior e Menor Acerto;  \n",
    "b) Total de Alunos que utilizaram o sistema;  \n",
    "c) A Média das Notas da Turma.\n",
    "\n",
    "\n",
    "Gabarito da Prova:\n",
    "\n",
    "01 - A  \n",
    "02 - B  \n",
    "03 - C  \n",
    "04 - D  \n",
    "05 - E  \n",
    "06 - E  \n",
    "07 - D  \n",
    "08 - C  \n",
    "09 - B  \n",
    "10 - A  \n",
    "\n",
    "Após concluir isto você poderia incrementar o programa permitindo que o professor digite o gabarito da prova antes dos alunos usarem o programa."
   ]
  },
  {
   "cell_type": "markdown",
   "metadata": {},
   "source": [
    "**Exercício 46**\n",
    "\n",
    "Em uma competição de salto em distância cada atleta tem direito a cinco saltos. No final da série de saltos de cada atleta, o melhor e o pior resultados são eliminados. O seu resultado fica sendo a média dos três valores restantes. Você deve fazer um programa que receba o nome e as cinco distâncias alcançadas pelo atleta em seus saltos e depois informe a média dos saltos conforme a descrição acima informada (retirar o melhor e o pior salto e depois calcular a média). Faça uso de uma lista para armazenar os saltos. Os saltos são informados na ordem da execução, portanto não são ordenados. O programa deve ser encerrado quando não for informado o nome do atleta. A saída do programa deve ser conforme o exemplo abaixo:\n",
    "\n",
    "Atleta: Rodrigo Curvêllo  \n",
    "\n",
    "Primeiro Salto: 6.5 m  \n",
    "Segundo Salto: 6.1 m  \n",
    "Terceiro Salto: 6.2 m  \n",
    "Quarto Salto: 5.4 m  \n",
    "Quinto Salto: 5.3 m  \n",
    "\n",
    "Melhor salto:  6.5 m  \n",
    "Pior salto: 5.3 m  \n",
    "Média dos demais saltos: 5.9 m  \n",
    "\n",
    "Resultado final:  \n",
    "Rodrigo Curvêllo: 5.9 m"
   ]
  },
  {
   "cell_type": "markdown",
   "metadata": {},
   "source": [
    "**Exercício 47**\n",
    "\n",
    "Em uma competição de ginástica, cada atleta recebe votos de sete jurados. A melhor e a pior nota são eliminadas. A sua nota fica sendo a média dos votos restantes. Você deve fazer um programa que receba o nome do ginasta e as notas dos sete jurados alcançadas pelo atleta em sua apresentação e depois informe a sua média, conforme a descrição acima informada (retirar o melhor e o pior salto e depois calcular a média com as notas restantes). As notas não são informados ordenadas. Um exemplo de saída do programa deve ser conforme o exemplo abaixo:\n",
    "\n",
    "Atleta: Aparecido Parente  \n",
    "Nota: 9.9  \n",
    "Nota: 7.5  \n",
    "Nota: 9.5  \n",
    "Nota: 8.5  \n",
    "Nota: 9.0  \n",
    "Nota: 8.5  \n",
    "Nota: 9.7  \n",
    "\n",
    "Resultado final:  \n",
    "Atleta: Aparecido Parente  \n",
    "Melhor nota: 9.9  \n",
    "Pior nota: 7.5  \n",
    "Média: 9,04"
   ]
  },
  {
   "cell_type": "markdown",
   "metadata": {},
   "source": [
    "**Exercício 48**\n",
    "\n",
    "Faça um programa que peça um numero inteiro positivo e em seguida mostre este numero invertido.\n",
    "\n",
    "Exemplo:  \n",
    "12376489 => 98467321"
   ]
  },
  {
   "cell_type": "markdown",
   "metadata": {},
   "source": [
    "**Exercício 49**\n",
    "\n",
    "Faça um programa que mostre os n termos da Série a seguir:\n",
    "\n",
    "$$ S = \\frac{1}{2} + \\frac{2}{3} + \\frac{3}{5} + \\frac{4}{7} + \\frac{5}{9} + ... + \\frac{n}{m} $$\n",
    "\n",
    "Imprima no final a soma da série.\n",
    "\n"
   ]
  },
  {
   "cell_type": "markdown",
   "metadata": {},
   "source": [
    "**Exercício 50**\n",
    "\n",
    "Faça um programa que calcule o valor de H com N termos.\n",
    "\n",
    "$$ H = 1 + \\frac{1}{2} + \\frac{1}{3} + \\frac{1}{4} + ... + \\frac{1}{N} $$"
   ]
  }
 ],
 "metadata": {
  "interpreter": {
   "hash": "369f2c481f4da34e4445cda3fffd2e751bd1c4d706f27375911949ba6bb62e1c"
  },
  "kernelspec": {
   "display_name": "Python 3.10.3 64-bit",
   "language": "python",
   "name": "python3"
  },
  "language_info": {
   "codemirror_mode": {
    "name": "ipython",
    "version": 3
   },
   "file_extension": ".py",
   "mimetype": "text/x-python",
   "name": "python",
   "nbconvert_exporter": "python",
   "pygments_lexer": "ipython3",
   "version": "3.10.3"
  },
  "orig_nbformat": 4
 },
 "nbformat": 4,
 "nbformat_minor": 2
}
