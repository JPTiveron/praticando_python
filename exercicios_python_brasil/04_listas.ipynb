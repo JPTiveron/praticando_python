{
 "cells": [
  {
   "cell_type": "markdown",
   "metadata": {},
   "source": [
    "# 04 - Listas"
   ]
  },
  {
   "cell_type": "markdown",
   "metadata": {},
   "source": [
    "**Exercício 01**\n",
    "\n",
    "Faça um Programa que leia um vetor de 5 números inteiros e mostre-os."
   ]
  },
  {
   "cell_type": "code",
   "execution_count": 1,
   "metadata": {},
   "outputs": [
    {
     "name": "stdout",
     "output_type": "stream",
     "text": [
      "[1.0, 2.0, 3.0, 4.0, 5.0]\n"
     ]
    }
   ],
   "source": [
    "lista = []\n",
    "for _ in range(5):\n",
    "    numero = int(input('Digite um número inteiro: '))\n",
    "    lista.append(numero)\n",
    "\n",
    "print(lista)"
   ]
  },
  {
   "cell_type": "markdown",
   "metadata": {},
   "source": [
    "**Exercício 02**\n",
    "\n",
    "Faça um Programa que leia um vetor de 10 números reais e mostre-os na ordem inversa."
   ]
  },
  {
   "cell_type": "code",
   "execution_count": 7,
   "metadata": {},
   "outputs": [
    {
     "name": "stdout",
     "output_type": "stream",
     "text": [
      "[10.0, 9.0, 8.0, 7.0, 6.0, 5.0, 4.0, 3.0, 2.0, 1.0]\n"
     ]
    }
   ],
   "source": [
    "lista = []\n",
    "for _ in range(10):\n",
    "    numero = float(input(\"Informe um número real: \"))\n",
    "    lista.append(numero)\n",
    "\n",
    "lista.reverse()\n",
    "print(lista)\n"
   ]
  },
  {
   "cell_type": "markdown",
   "metadata": {},
   "source": [
    "**Exercício 03**\n",
    "\n",
    "Faça um Programa que leia 4 notas, mostre as notas e a média na tela.\n"
   ]
  },
  {
   "cell_type": "code",
   "execution_count": 9,
   "metadata": {},
   "outputs": [
    {
     "name": "stdout",
     "output_type": "stream",
     "text": [
      "10.0\n",
      "9.0\n",
      "2.0\n",
      "8.0\n",
      "Média: 7.25\n"
     ]
    }
   ],
   "source": [
    "notas = []\n",
    "\n",
    "for i in range(4):\n",
    "    nota = float(input(f\"Informa a nota {i + 1}: \"))\n",
    "    notas.append(nota)\n",
    "\n",
    "soma = sum(notas)\n",
    "media = soma / len(notas)\n",
    "\n",
    "for nota in notas:\n",
    "    print(nota)\n",
    "print(f'Média: {media}')"
   ]
  },
  {
   "cell_type": "markdown",
   "metadata": {},
   "source": [
    "**Exercício 04**\n",
    "\n",
    "Faça um Programa que leia um vetor de 10 caracteres, e diga quantas consoantes foram lidas. Imprima as consoantes."
   ]
  },
  {
   "cell_type": "code",
   "execution_count": 10,
   "metadata": {},
   "outputs": [
    {
     "name": "stdout",
     "output_type": "stream",
     "text": [
      "Consoantes: 7\n",
      "b r g t y s g "
     ]
    }
   ],
   "source": [
    "vogais = ['a', 'e', 'i', 'o', 'u']\n",
    "consoantes = []\n",
    "\n",
    "for _ in range(10):\n",
    "    letra = input('Informe uma letra: ').lower()\n",
    "    if letra not in vogais:\n",
    "        consoantes.append(letra)\n",
    "\n",
    "print(f'Consoantes: {len(consoantes)}')\n",
    "for letra in consoantes:\n",
    "    print(letra, end=' ')\n",
    "        "
   ]
  },
  {
   "cell_type": "markdown",
   "metadata": {},
   "source": [
    "**Exercício 05**\n",
    "\n",
    "Faça um Programa que leia 20 números inteiros e armazene-os num vetor. Armazene os números pares no vetor PAR e os números IMPARES no vetor impar. Imprima os três vetores."
   ]
  },
  {
   "cell_type": "code",
   "execution_count": 11,
   "metadata": {},
   "outputs": [
    {
     "name": "stdout",
     "output_type": "stream",
     "text": [
      "Números: [3, 4, 6, 8, 4, 6, 7, 89, 54, 23, 57, 32, 56, 88, 44, 32, 11, 23, 45, 67]\n",
      "Pares: [4, 6, 8, 4, 6, 54, 32, 56, 88, 44, 32]\n",
      "Ímpares: [3, 7, 89, 23, 57, 11, 23, 45, 67]\n"
     ]
    }
   ],
   "source": [
    "numeros = []\n",
    "pares = []\n",
    "impares = []\n",
    "\n",
    "for i in range(20):\n",
    "    numero = int(input(f'Digite o número {i + 1}: '))\n",
    "    numeros.append(numero)\n",
    "\n",
    "for numero in numeros:\n",
    "    if numero % 2 == 0:\n",
    "        pares.append(numero)\n",
    "    else:\n",
    "        impares.append(numero)\n",
    "\n",
    "print(f'Números: {numeros}')\n",
    "print(f'Pares: {pares}')\n",
    "print(f'Ímpares: {impares}')\n"
   ]
  },
  {
   "cell_type": "markdown",
   "metadata": {},
   "source": [
    "**Exercício 06**\n",
    "\n",
    "Faça um Programa que peça as quatro notas de 10 alunos, calcule e armazene num vetor a média de cada aluno, imprima o número de alunos com média maior ou igual a 7.0."
   ]
  },
  {
   "cell_type": "code",
   "execution_count": 3,
   "metadata": {},
   "outputs": [
    {
     "name": "stdout",
     "output_type": "stream",
     "text": [
      "1 alunos com média maior ou igual a 7\n"
     ]
    }
   ],
   "source": [
    "medias = []\n",
    "\n",
    "for aluno in range(10):\n",
    "    soma = 0\n",
    "    for nota in range(4):\n",
    "        soma += float(input(f'Informe a nota {nota + 1} do aluno {aluno + 1}'))\n",
    "    media = soma / 4\n",
    "    medias.append(media)\n",
    "\n",
    "media_7_ou_mais = []\n",
    "for media in medias:\n",
    "    if media >= 7:\n",
    "        media_7_ou_mais.append(media)\n",
    "\n",
    "alunos_aprovados = len(media_7_ou_mais)\n",
    "\n",
    "print(f'{alunos_aprovados} alunos com média maior ou igual a 7')"
   ]
  },
  {
   "cell_type": "markdown",
   "metadata": {},
   "source": [
    "**Exercício 07**\n",
    "\n",
    "Faça um Programa que leia um vetor de 5 números inteiros, mostre a soma, a multiplicação e os números."
   ]
  },
  {
   "cell_type": "code",
   "execution_count": 2,
   "metadata": {},
   "outputs": [
    {
     "name": "stdout",
     "output_type": "stream",
     "text": [
      "[1, 2, 3, 4, 5]\n",
      "Soma: 15\n",
      "Multiplicação: 120\n"
     ]
    }
   ],
   "source": [
    "numeros = []\n",
    "\n",
    "for _ in range(5):\n",
    "    numero = int(input('Informe um número: '))\n",
    "    numeros.append(numero)\n",
    "\n",
    "soma = 0\n",
    "multiplicacao = 1\n",
    "for numero in numeros:\n",
    "    soma += numero\n",
    "    multiplicacao *= numero\n",
    "\n",
    "print(numeros)\n",
    "print(f'Soma: {soma}')\n",
    "print(f'Multiplicação: {multiplicacao}')"
   ]
  },
  {
   "cell_type": "markdown",
   "metadata": {},
   "source": [
    "**Exercício 08**\n",
    "\n",
    "Faça um Programa que peça a idade e a altura de 5 pessoas, armazene cada informação no seu respectivo vetor. Imprima a idade e a altura na ordem inversa a ordem lida."
   ]
  },
  {
   "cell_type": "code",
   "execution_count": 3,
   "metadata": {},
   "outputs": [
    {
     "name": "stdout",
     "output_type": "stream",
     "text": [
      "Idades: [90, 89, 23, 18, 18]\n",
      "Alturas: [1.56, 1.56, 1.65, 1.9, 1.8]\n"
     ]
    }
   ],
   "source": [
    "idades = []\n",
    "alturas = []\n",
    "\n",
    "for i in range(5):\n",
    "    idade = int(input(f'Informe a idade da pessoa {i + 1}'))\n",
    "    idades.append(idade)\n",
    "    altura = float(input(f'Informa a altura da pessoa {i + 1}'))\n",
    "    alturas.append(altura)\n",
    "\n",
    "idades.reverse()\n",
    "alturas.reverse()\n",
    "\n",
    "print(f'Idades: {idades}')\n",
    "print(f'Alturas: {alturas}')"
   ]
  },
  {
   "cell_type": "markdown",
   "metadata": {},
   "source": [
    "**Exercício 09**\n",
    "\n",
    "Faça um Programa que leia um vetor A com 10 números inteiros, calcule e mostre a soma dos quadrados dos elementos do vetor.\n"
   ]
  },
  {
   "cell_type": "code",
   "execution_count": 5,
   "metadata": {},
   "outputs": [
    {
     "name": "stdout",
     "output_type": "stream",
     "text": [
      "385\n"
     ]
    }
   ],
   "source": [
    "A = [1, 2, 3, 4, 5, 6, 7, 8, 9, 10]\n",
    "\n",
    "A_2 = [x ** 2 for x in A]\n",
    "soma = sum(A_2)\n",
    "print(soma)"
   ]
  },
  {
   "cell_type": "markdown",
   "metadata": {},
   "source": [
    "**Exercício 10**\n",
    "\n",
    "Faça um Programa que leia dois vetores com 10 elementos cada. Gere um terceiro vetor de 20 elementos, cujos valores deverão ser compostos pelos elementos intercalados dos dois outros vetores."
   ]
  },
  {
   "cell_type": "code",
   "execution_count": 6,
   "metadata": {},
   "outputs": [
    {
     "name": "stdout",
     "output_type": "stream",
     "text": [
      "[1, 11, 2, 12, 3, 13, 4, 14, 5, 15, 6, 16, 7, 17, 8, 18, 9, 19, 10, 20]\n"
     ]
    }
   ],
   "source": [
    "lista_a = [1, 2, 3, 4, 5, 6, 7, 8, 9, 10]\n",
    "lista_b = [11, 12, 13, 14, 15, 16, 17, 18, 19, 20]\n",
    "lista_c = []\n",
    "\n",
    "for i in range(10):\n",
    "    lista_c.append(lista_a[i])\n",
    "    lista_c.append(lista_b[i])\n",
    "\n",
    "print(lista_c)"
   ]
  },
  {
   "cell_type": "markdown",
   "metadata": {},
   "source": [
    "**Exercício 11**\n",
    "\n",
    "Altere o programa anterior, intercalando 3 vetores de 10 elementos cada."
   ]
  },
  {
   "cell_type": "code",
   "execution_count": 7,
   "metadata": {},
   "outputs": [
    {
     "name": "stdout",
     "output_type": "stream",
     "text": [
      "[10, 20, 30, 11, 21, 31, 12, 22, 32, 13, 23, 33, 14, 24, 34, 15, 25, 35, 16, 26, 36, 17, 27, 37, 18, 28, 38, 19, 29, 39]\n"
     ]
    }
   ],
   "source": [
    "lista_a = [10, 11, 12, 13, 14, 15, 16, 17, 18, 19]\n",
    "lista_b = [20, 21, 22, 23, 24, 25, 26, 27, 28, 29]\n",
    "lista_c = [30, 31, 32, 33, 34, 35, 36, 37, 38, 39]\n",
    "lista_d = []\n",
    "\n",
    "for i in range(10):\n",
    "    lista_d.append(lista_a[i])\n",
    "    lista_d.append(lista_b[i])\n",
    "    lista_d.append(lista_c[i])\n",
    "\n",
    "print(lista_d)"
   ]
  },
  {
   "cell_type": "markdown",
   "metadata": {},
   "source": [
    "**Exercício 12**\n",
    "\n",
    "Foram anotadas as idades e alturas de 30 alunos. Faça um Programa que determine quantos alunos com mais de 13 anos possuem altura inferior à média de altura desses alunos"
   ]
  },
  {
   "cell_type": "code",
   "execution_count": 9,
   "metadata": {},
   "outputs": [
    {
     "name": "stdout",
     "output_type": "stream",
     "text": [
      "\n",
      "Quantidade de alunos: 30\n",
      "Média de altura: 1.74 m\n",
      "Alunos maiores que a média (com mais de 13 anos): 7\n",
      "\n"
     ]
    }
   ],
   "source": [
    "import random\n",
    "\n",
    "alunos = []\n",
    "for _ in range(30):\n",
    "    altura = round(random.uniform(1.50, 2.00), 2)\n",
    "    idade = random.randint(10, 15)\n",
    "    alunos.append([idade, altura])\n",
    "\n",
    "soma = 0\n",
    "\n",
    "for aluno in alunos:\n",
    "    soma += aluno[1]\n",
    "\n",
    "media = round(soma / len(alunos), 2)\n",
    "\n",
    "quantidate_maior_que_a_media = 0\n",
    "\n",
    "for aluno in alunos:\n",
    "    if aluno[0] > 13:\n",
    "        quantidate_maior_que_a_media += 1\n",
    "\n",
    "print(f'''\n",
    "Quantidade de alunos: {len(alunos)}\n",
    "Média de altura: {media} m\n",
    "Alunos maiores que a média (com mais de 13 anos): {quantidate_maior_que_a_media}\n",
    "''')"
   ]
  },
  {
   "cell_type": "markdown",
   "metadata": {},
   "source": [
    "**Exercício 13**\n",
    "\n",
    "Faça um programa que receba a temperatura média de cada mês do ano e armazene-as em uma lista. Após isto, calcule a média anual das temperaturas e mostre todas as temperaturas acima da média anual, e em que mês elas ocorreram (mostrar o mês por extenso: 1 – Janeiro, 2 – Fevereiro, . . . )."
   ]
  },
  {
   "cell_type": "markdown",
   "metadata": {},
   "source": [
    "**Exercício 14**\n",
    "\n",
    "Utilizando listas faça um programa que faça 5 perguntas para uma pessoa sobre um crime. As perguntas são:\n",
    "- \"Telefonou para a vítima?\"\n",
    "- \"Esteve no local do crime?\"\n",
    "- \"Mora perto da vítima?\"\n",
    "- \"Devia para a vítima?\"\n",
    "- \"Já trabalhou com a vítima?\" \n",
    "\n",
    "O programa deve no final emitir uma classificação sobre a participação da pessoa no crime. Se a pessoa responder positivamente a 2 questões ela deve ser classificada como \"Suspeita\", entre 3 e 4 como \"Cúmplice\" e 5 como \"Assassino\". Caso contrário, ele será classificado como \"Inocente\"."
   ]
  },
  {
   "cell_type": "markdown",
   "metadata": {},
   "source": [
    "**Exercício 15**\n",
    "\n",
    "Faça um programa que leia um número indeterminado de valores, correspondentes a notas, encerrando a entrada de dados quando for informado um valor igual a -1 (que não deve ser armazenado). Após esta entrada de dados, faça:\n",
    "a) Mostre a quantidade de valores que foram lidos;  \n",
    "b) Exiba todos os valores na ordem em que foram informados, um ao lado do outro;  \n",
    "c) Exiba todos os valores na ordem inversa à que foram informados, um abaixo do outro;  \n",
    "d) Calcule e mostre a soma dos valores;  \n",
    "e) Calcule e mostre a média dos valores;  \n",
    "f) Calcule e mostre a quantidade de valores acima da média calculada;  \n",
    "g) Calcule e mostre a quantidade de valores abaixo de sete;  \n",
    "h) Encerre o programa com uma mensagem;"
   ]
  },
  {
   "cell_type": "markdown",
   "metadata": {},
   "source": [
    "**Exercício 16**\n",
    "\n",
    "Utilize uma lista para resolver o problema a seguir. Uma empresa paga seus vendedores com base em comissões. O vendedor recebe $200 por semana mais 9 por cento de suas vendas brutas daquela semana. Por exemplo, um vendedor que teve vendas brutas de $3000 em uma semana recebe $200 mais 9 por cento de $3000, ou seja, um total de $470. Escreva um programa (usando um array de contadores) que determine quantos vendedores receberam salários nos seguintes intervalos de valores:\n",
    "\n",
    "a) $200 - $299  \n",
    "b) $300 - $399  \n",
    "c) $400 - $499  \n",
    "d) $500 - $599  \n",
    "e) $600 - $699  \n",
    "f) $700 - $799  \n",
    "g) $800 - $899  \n",
    "h) $900 - $999  \n",
    "i) $1000 em diante\n",
    "\n",
    "Desafio: Crie ma fórmula para chegar na posição da lista a partir do salário, sem fazer vários ifs aninhados."
   ]
  },
  {
   "cell_type": "markdown",
   "metadata": {},
   "source": [
    "**Exercício 17**\n",
    "\n",
    "Em uma competição de salto em distância cada atleta tem direito a cinco saltos. O resultado do atleta será determinado pela média dos cinco valores restantes. Você deve fazer um programa que receba o nome e as cinco distâncias alcançadas pelo atleta em seus saltos e depois informe o nome, os saltos e a média dos saltos. O programa deve ser encerrado quando não for informado o nome do atleta. A saída do programa deve ser conforme o exemplo abaixo:\n",
    "\n",
    "Atleta: Rodrigo Curvêllo\n",
    " \n",
    "Primeiro Salto: 6.5 m  \n",
    "Segundo Salto: 6.1 m  \n",
    "Terceiro Salto: 6.2 m  \n",
    "Quarto Salto: 5.4 m  \n",
    "Quinto Salto: 5.3 m  \n",
    "\n",
    "Resultado final:  \n",
    "Atleta: Rodrigo Curvêllo  \n",
    "Saltos: 6.5 - 6.1 - 6.2 - 5.4 - 5.3  \n",
    "Média dos saltos: 5.9 m"
   ]
  },
  {
   "cell_type": "markdown",
   "metadata": {},
   "source": [
    "**Exercício 18**\n",
    "\n",
    "Uma grande emissora de televisão quer fazer uma enquete entre os seus telespectadores para saber qual o melhor jogador após cada jogo. Para isto, faz-se necessário o desenvolvimento de um programa, que será utilizado pelas telefonistas, para a computação dos votos. Sua equipe foi contratada para desenvolver este programa, utilizando a linguagem de programação C++. Para computar cada voto, a telefonista digitará um número, entre 1 e 23, correspondente ao número da camisa do jogador. Um número de jogador igual zero, indica que a votação foi encerrada. Se um número inválido for digitado, o programa deve ignorá-lo, mostrando uma breve mensagem de aviso, e voltando a pedir outro número. Após o final da votação, o programa deverá exibir:\n",
    "\n",
    "a) O total de votos computados;  \n",
    "b) Os númeos e respectivos votos de todos os jogadores que receberam votos;  \n",
    "c) O percentual de votos de cada um destes jogadores;  \n",
    "d) O número do jogador escolhido como o melhor jogador da partida, juntamente com o número de votos e o percentual de votos dados a ele.\n",
    "\n",
    "Observe que os votos inválidos e o zero final não devem ser computados como votos. O resultado aparece ordenado pelo número do jogador. O programa deve fazer uso de arrays. O programa deverá executar o cálculo do percentual de cada jogador através de uma função. Esta função receberá dois parâmetros: o número de votos de um jogador e o total de votos. A função calculará o percentual e retornará o valor calculado. Abaixo segue uma tela de exemplo. O disposição das informações deve ser o mais próxima possível ao exemplo. Os dados são fictícios e podem mudar a cada execução do programa. Ao final, o programa deve ainda gravar os dados referentes ao resultado da votação em um arquivo texto no disco, obedecendo a mesma disposição apresentada na tela.\n",
    "\n",
    "Enquete: Quem foi o melhor jogador?\n",
    "\n",
    "Número do jogador (0=fim): 9  \n",
    "Número do jogador (0=fim): 10  \n",
    "Número do jogador (0=fim): 9  \n",
    "Número do jogador (0=fim): 10  \n",
    "Número do jogador (0=fim): 11  \n",
    "Número do jogador (0=fim): 10  \n",
    "Número do jogador (0=fim): 50  \n",
    "Informe um valor entre 1 e 23 ou 0 para sair!  \n",
    "Número do jogador (0=fim): 9  \n",
    "Número do jogador (0=fim): 9  \n",
    "Número do jogador (0=fim): 0  \n",
    "\n",
    "Resultado da votação:\n",
    "\n",
    "Foram computados 8 votos.\n",
    "\n",
    "|Jogador|Votos|%|\n",
    "|---|---|---|\n",
    "|9|4|50,0%|\n",
    "|10|3|37,5%|\n",
    "|11|1|12,5%|\n",
    "\n",
    "O melhor jogador foi o número 9, com 4 votos, correspondendo a 50% do total de votos."
   ]
  },
  {
   "cell_type": "markdown",
   "metadata": {},
   "source": [
    "**Exercício 19**\n",
    "\n",
    "Uma empresa de pesquisas precisa tabular os resultados da seguinte enquete feita a um grande quantidade de organizações:\n",
    "\n",
    "\"Qual o melhor Sistema Operacional para uso em servidores?\"\n",
    "\n",
    "As possíveis respostas são:\n",
    "\n",
    "1- Windows Server  \n",
    "2- Unix  \n",
    "3- Linux  \n",
    "4- Netware  \n",
    "5- Mac OS  \n",
    "6- Outro  \n",
    "\n",
    "Você foi contratado para desenvolver um programa que leia o resultado da enquete e informe ao final o resultado da mesma. O programa deverá ler os valores até ser informado o valor 0, que encerra a entrada dos dados. Não deverão ser aceitos valores além dos válidos para o programa (0 a 6). Os valores referentes a cada uma das opções devem ser armazenados num vetor. Após os dados terem sido completamente informados, o programa deverá calcular a percentual de cada um dos concorrentes e informar o vencedor da enquete. O formato da saída foi dado pela empresa, e é o seguinte:\n",
    "\n",
    "|Sistema Operacional|     Votos |  %|\n",
    "|-------------------     |-----   |---|\n",
    "|Windows Server           |1500|   17%|\n",
    "|Unix                     |3500|   40%|\n",
    "|Linux                    |3000|   34%|\n",
    "|Netware                  |500|    5%|\n",
    "|Mac OS                    |150|    2%|\n",
    "|Outro                     |150|    2%|\n",
    "|-------------------    | -----||\n",
    "|Total|                    8800||\n",
    "\n",
    "O Sistema Operacional mais votado foi o Unix, com 3.500 votos, correspondendo a 40% dos votos."
   ]
  },
  {
   "cell_type": "markdown",
   "metadata": {},
   "source": [
    "**Exercício 20**\n",
    "\n",
    "As Organizações Tabajara resolveram dar um abono aos seus colaboradores em reconhecimento ao bom resultado alcançado durante o ano que passou. Para isto contratou você para desenvolver a aplicação que servirá como uma projeção de quanto será gasto com o pagamento deste abono.\n",
    "\n",
    "Após reuniões envolvendo a diretoria executiva, a diretoria financeira e os representantes do sindicato laboral, chegou-se a seguinte forma de cálculo:\n",
    "\n",
    "Cada funcionário receberá o equivalente a 20% do seu salário bruto de dezembro;  \n",
    "O piso do abono será de 100 reais, isto é, aqueles funcionários cujo salário for muito baixo, recebem este valor mínimo;  \n",
    "Neste momento, não se deve ter nenhuma preocupação com colaboradores com tempo menor de casa, descontos, impostos ou outras particularidades. Seu programa deverá permitir a digitação do salário de um número indefinido (desconhecido) de salários. Um valor de salário igual a 0 (zero) encerra a digitação. Após a entrada de todos os dados o programa deverá calcular o valor do abono concedido a cada colaborador, de acordo com a regra definida acima. Ao final, o programa deverá apresentar:\n",
    "\n",
    "- O salário de cada funcionário, juntamente com o valor do abono;\n",
    "- O número total de funcionário processados;\n",
    "- O valor total a ser gasto com o pagamento do abono;\n",
    "- O número de funcionário que receberá o valor mínimo de 100 reais;\n",
    "- O maior valor pago como abono; \n",
    "\n",
    "A tela abaixo é um exemplo de execução do programa, apenas para fins ilustrativos. Os valores podem mudar a cada execução do programa.\n",
    "\n",
    "Projeção de Gastos com Abono\n",
    " \n",
    "Salário: 1000  \n",
    "Salário: 300  \n",
    "Salário: 500  \n",
    "Salário: 100  \n",
    "Salário: 4500  \n",
    "Salário: 0\n",
    " \n",
    "Salário    - Abono     \n",
    "R$ 1000.00 - R$  200.00  \n",
    "R$  300.00 - R$  100.00  \n",
    "R$  500.00 - R$  100.00  \n",
    "R$  100.00 - R$  100.00  \n",
    "R$ 4500.00 - R$  900.00  \n",
    " \n",
    "Foram processados 5 colaboradores  \n",
    "Total gasto com abonos: R$ 1400.00  \n",
    "Valor mínimo pago a 3 colaboradores  \n",
    "Maior valor de abono pago: R$ 900.00"
   ]
  },
  {
   "cell_type": "markdown",
   "metadata": {},
   "source": [
    "**Exercício 21**\n",
    "\n",
    "Faça um programa que carregue uma lista com os modelos de cinco carros (exemplo de modelos: FUSCA, GOL, VECTRA etc). Carregue uma outra lista com o consumo desses carros, isto é, quantos quilômetros cada um desses carros faz com um litro de combustível. Calcule e mostre:\n",
    "\n",
    "\n",
    "a) O modelo do carro mais econômico;  \n",
    "b) Quantos litros de combustível cada um dos carros cadastrados consome para percorrer uma distância de 1000 quilômetros e quanto isto custará, considerando um que a gasolina custe R$ 2,25 o litro. \n",
    "\n",
    "Abaixo segue uma tela de exemplo. O disposição das informações deve ser o mais próxima possível ao exemplo. Os dados são fictícios e podem mudar a cada execução do programa.\n",
    "\n",
    "\n",
    "Comparativo de Consumo de Combustível\n",
    "\n",
    "Veículo 1\n",
    "Nome: fusca\n",
    "Km por litro: 7\n",
    "Veículo 2\n",
    "Nome: gol\n",
    "Km por litro: 10\n",
    "Veículo 3\n",
    "Nome: uno\n",
    "Km por litro: 12.5\n",
    "Veículo 4\n",
    "Nome: Vectra\n",
    "Km por litro: 9\n",
    "Veículo 5\n",
    "Nome: Peugeout\n",
    "Km por litro: 14.5\n",
    "\n",
    "|Relatório Final|||||\n",
    "|---|---|---|---|---|\n",
    "|1 | fusca           |    7.0 |  142.9 litros | R$ 321.43|\n",
    "|2 | gol             |   10.0 |  100.0 litros | R$ 225.00|\n",
    "|3 | uno             |   12.5 |   80.0 litros | R$ 180.00|\n",
    "|4 | vectra          |    9.0 |  111.1 litros | R$ 250.00|\n",
    "|5 | peugeout        |   14.5 |   69.0 litros | R$ 155.17|\n",
    "\n",
    "O menor consumo é do peugeout."
   ]
  },
  {
   "cell_type": "markdown",
   "metadata": {},
   "source": [
    "**Exercício 22**\n",
    "\n",
    "Sua organização acaba de contratar um estagiário para trabalhar no Suporte de Informática, com a intenção de fazer um levantamento nas sucatas encontradas nesta área. A primeira tarefa dele é testar todos os cerca de 200 mouses que se encontram lá, testando e anotando o estado de cada um deles, para verificar o que se pode aproveitar deles.\n",
    "\n",
    "Foi requisitado que você desenvolva um programa para registrar este levantamento. O programa deverá receber um número indeterminado de entradas, cada uma contendo: \n",
    "\n",
    "- um número de identificação do mouse o tipo de defeito:\n",
    "- necessita da esfera;\n",
    "- necessita de limpeza;\n",
    "- necessita troca do cabo ou conector;\n",
    "- quebrado ou inutilizado \n",
    "\n",
    "Uma identificação igual a zero encerra o programa. Ao final o programa deverá emitir o seguinte relatório:\n",
    "\n",
    "Quantidade de mouses: 100\n",
    "\n",
    "|Situação|Quantidade |Percentual|\n",
    "|---|---|---|\n",
    "|1- necessita da esfera                  |40  |               40%|\n",
    "|2- necessita de limpeza                 |30  |               30%|\n",
    "|3- necessita troca do cabo ou conector  |15  |               15%|\n",
    "|4- quebrado ou inutilizado              |15  |               15%|"
   ]
  },
  {
   "cell_type": "markdown",
   "metadata": {},
   "source": [
    "**Exercício 23**\n",
    "\n",
    "A ACME Inc., uma empresa de 500 funcionários, está tendo problemas de espaço em disco no seu servidor de arquivos. Para tentar resolver este problema, o Administrador de Rede precisa saber qual o espaço ocupado pelos usuários, e identificar os usuários com maior espaço ocupado. Através de um programa, baixado da Internet, ele conseguiu gerar o seguinte arquivo, chamado \"usuarios.txt\":\n",
    "\n",
    "|||\n",
    "|---|---|\n",
    "|alexandre|456123789|\n",
    "|anderson|1245698456|\n",
    "|antonio|123456456|\n",
    "|carlos|91257581|\n",
    "|cesar|987458|\n",
    "|rosemary|789456125|\n",
    "\n",
    "Neste arquivo, o nome do usuário possui 15 caracteres. A partir deste arquivo, você deve criar um programa que gere um relatório, chamado \"relatório.txt\", no seguinte formato:\n",
    "\n",
    "ACME Inc.               Uso do espaço em disco pelos usuários\n",
    "\n",
    "|Nr.   |Usuário |        Espaço utilizado    |% do uso|\n",
    "|---|---|---|---|\n",
    "|1|    alexandre|       434,99 MB            |16,85%|\n",
    "|2|    anderson |      1187,99 MB            |46,02%|\n",
    "|3|    antonio  |       117,73 MB            |4,56%|\n",
    "|4|    carlos   |        87,03 MB            |3,37%|\n",
    "|5|    cesar    |         0,94 MB            |0,04%|\n",
    "|6|    rosemary |       752,88 MB            |29,16%|\n",
    "\n",
    "Espaço total ocupado: 2581,57 MB  \n",
    "Espaço médio ocupado: 430,26 MB  \n",
    "\n",
    "O arquivo de entrada deve ser lido uma única vez, e os dados armazenados em memória, caso sejam necessários, de forma a agilizar a execução do programa. A conversão da espaço ocupado em disco, de bytes para megabytes deverá ser feita através de uma função separada, que será chamada pelo programa principal. O cálculo do percentual de uso também deverá ser feito através de uma função, que será chamada pelo programa principal."
   ]
  },
  {
   "cell_type": "markdown",
   "metadata": {},
   "source": [
    "**Exercício 24**\n",
    "\n",
    "Faça um programa que simule um lançamento de dados. Lance o dado 100 vezes e armazene os resultados em um vetor . Depois, mostre quantas vezes cada valor foi conseguido. Dica: use um vetor de contadores(1-6) e uma função para gerar numeros aleatórios, simulando os lançamentos dos dados.\n"
   ]
  },
  {
   "cell_type": "markdown",
   "metadata": {},
   "source": []
  }
 ],
 "metadata": {
  "interpreter": {
   "hash": "369f2c481f4da34e4445cda3fffd2e751bd1c4d706f27375911949ba6bb62e1c"
  },
  "kernelspec": {
   "display_name": "Python 3.10.3 64-bit",
   "language": "python",
   "name": "python3"
  },
  "language_info": {
   "codemirror_mode": {
    "name": "ipython",
    "version": 3
   },
   "file_extension": ".py",
   "mimetype": "text/x-python",
   "name": "python",
   "nbconvert_exporter": "python",
   "pygments_lexer": "ipython3",
   "version": "3.10.3"
  },
  "orig_nbformat": 4
 },
 "nbformat": 4,
 "nbformat_minor": 2
}
